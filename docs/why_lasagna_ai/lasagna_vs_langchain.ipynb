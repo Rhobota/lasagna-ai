{
 "cells": [
  {
   "cell_type": "raw",
   "id": "29c71905-6701-4948-87e1-ee56dc5bcf7f",
   "metadata": {},
   "source": [
    "---\n",
    "title: \"Lasagna vs LangChain\"\n",
    "---"
   ]
  },
  {
   "cell_type": "code",
   "execution_count": 1,
   "id": "18e4f136-3251-4ab3-be23-2f6addb49dea",
   "metadata": {},
   "outputs": [],
   "source": [
    "# 🚧 Under Construction 🏗️"
   ]
  },
  {
   "cell_type": "code",
   "execution_count": null,
   "id": "f518a7f6-2c0c-4771-871f-08b90dfd0f96",
   "metadata": {},
   "outputs": [],
   "source": []
  }
 ],
 "metadata": {
  "kernelspec": {
   "display_name": "Python 3 (ipykernel)",
   "language": "python",
   "name": "python3"
  },
  "language_info": {
   "codemirror_mode": {
    "name": "ipython",
    "version": 3
   },
   "file_extension": ".py",
   "mimetype": "text/x-python",
   "name": "python",
   "nbconvert_exporter": "python",
   "pygments_lexer": "ipython3",
   "version": "3.12.3"
  }
 },
 "nbformat": 4,
 "nbformat_minor": 5
}
