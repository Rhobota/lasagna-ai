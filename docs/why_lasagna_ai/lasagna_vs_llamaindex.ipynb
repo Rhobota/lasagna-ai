{
 "cells": [
  {
   "cell_type": "raw",
   "id": "940901b1-5671-45c8-a039-25be860f7961",
   "metadata": {},
   "source": [
    "---\n",
    "title: \"Lasagna vs LlamaIndex\"\n",
    "---"
   ]
  },
  {
   "cell_type": "code",
   "execution_count": 1,
   "id": "077aa792-4a9b-4b5c-bcd5-c1b43a05c22b",
   "metadata": {},
   "outputs": [],
   "source": [
    "# 🚧 Under Construction 🏗️"
   ]
  },
  {
   "cell_type": "code",
   "execution_count": null,
   "id": "c7b66c85-6c31-49a9-8ddd-0cb3a7cef1bc",
   "metadata": {},
   "outputs": [],
   "source": []
  }
 ],
 "metadata": {
  "kernelspec": {
   "display_name": "Python 3 (ipykernel)",
   "language": "python",
   "name": "python3"
  },
  "language_info": {
   "codemirror_mode": {
    "name": "ipython",
    "version": 3
   },
   "file_extension": ".py",
   "mimetype": "text/x-python",
   "name": "python",
   "nbconvert_exporter": "python",
   "pygments_lexer": "ipython3",
   "version": "3.12.3"
  }
 },
 "nbformat": 4,
 "nbformat_minor": 5
}
