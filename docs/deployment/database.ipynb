{
 "cells": [
  {
   "cell_type": "raw",
   "id": "6d9a38a5-135b-4dae-aaec-31ffb1c1376a",
   "metadata": {},
   "source": [
    "---\n",
    "title: \"Database Management\"\n",
    "---"
   ]
  },
  {
   "cell_type": "code",
   "execution_count": 1,
   "id": "a51a4d4d-262e-44fc-8a01-1d9ed5039524",
   "metadata": {},
   "outputs": [],
   "source": [
    "# 🚧 Under Construction 🏗️"
   ]
  },
  {
   "cell_type": "markdown",
   "id": "148dc606-995b-4972-8534-4a2cb8a70a8c",
   "metadata": {},
   "source": [
    "Don’t rage when trying to store raw messages and token counts. 😡 🤬\n",
    "\n",
    "Lasagna AI makes it easy to store raw messages (for any potential debugging that needs to happen down the road), token counts, and conversation histories into your database."
   ]
  },
  {
   "cell_type": "code",
   "execution_count": null,
   "id": "294c650f-ecaa-43dc-abf6-abedcf2d121d",
   "metadata": {},
   "outputs": [],
   "source": []
  }
 ],
 "metadata": {
  "kernelspec": {
   "display_name": "Python 3 (ipykernel)",
   "language": "python",
   "name": "python3"
  },
  "language_info": {
   "codemirror_mode": {
    "name": "ipython",
    "version": 3
   },
   "file_extension": ".py",
   "mimetype": "text/x-python",
   "name": "python",
   "nbconvert_exporter": "python",
   "pygments_lexer": "ipython3",
   "version": "3.12.3"
  }
 },
 "nbformat": 4,
 "nbformat_minor": 5
}
