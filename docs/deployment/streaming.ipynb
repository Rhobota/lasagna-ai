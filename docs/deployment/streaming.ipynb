{
 "cells": [
  {
   "cell_type": "raw",
   "id": "9fc8c61f-c61a-4f8e-8bd5-793ac05724b6",
   "metadata": {},
   "source": [
    "---\n",
    "title: \"Streaming Output (Events)\"\n",
    "order: 010\n",
    "---"
   ]
  },
  {
   "cell_type": "code",
   "execution_count": 2,
   "id": "80d095cb-2cd6-42f2-ae2f-8cab23ff5177",
   "metadata": {},
   "outputs": [],
   "source": [
    "# TODO"
   ]
  },
  {
   "cell_type": "code",
   "execution_count": null,
   "id": "7e814b77-a1da-4a84-8f2b-ac39da9fe215",
   "metadata": {},
   "outputs": [],
   "source": []
  }
 ],
 "metadata": {
  "kernelspec": {
   "display_name": "Python 3 (ipykernel)",
   "language": "python",
   "name": "python3"
  },
  "language_info": {
   "codemirror_mode": {
    "name": "ipython",
    "version": 3
   },
   "file_extension": ".py",
   "mimetype": "text/x-python",
   "name": "python",
   "nbconvert_exporter": "python",
   "pygments_lexer": "ipython3",
   "version": "3.12.3"
  }
 },
 "nbformat": 4,
 "nbformat_minor": 5
}
