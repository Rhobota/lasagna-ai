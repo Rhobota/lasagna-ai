{
 "cells": [
  {
   "cell_type": "raw",
   "id": "d6734406-dc8b-4727-be3e-9e2055385035",
   "metadata": {},
   "source": [
    "---\n",
    "title: \"Streaming & Events\"\n",
    "---"
   ]
  },
  {
   "cell_type": "code",
   "execution_count": 1,
   "id": "a81da2c4-2109-4a56-b157-bd53383903b5",
   "metadata": {},
   "outputs": [],
   "source": [
    "# 🚧 Under Construction 🏗️"
   ]
  },
  {
   "cell_type": "markdown",
   "id": "81c6efaa-4b5d-447e-800a-a6c923514bfd",
   "metadata": {},
   "source": [
    "### Streaming Agent Output\n",
    "\n",
    "Because Lasagna AI is built on `asyncio`, it's trivial to pump events up through the callstack so you can have real-time streaming! We try to make events for _everything_, allowing you to pick-and-choose what you want to look for."
   ]
  },
  {
   "cell_type": "code",
   "execution_count": null,
   "id": "bfd806e8-8663-47c0-9af9-f35423f7e61c",
   "metadata": {},
   "outputs": [],
   "source": [
    "# TODO"
   ]
  },
  {
   "cell_type": "markdown",
   "id": "9b32b487-c19f-477f-99b4-4e77fc637b57",
   "metadata": {},
   "source": [
    "### Agent Start/Stop Events\n",
    "\n",
    "Since agents can be layered, and agents can call other agents, we sometimes want to track when agents start/stop their execution."
   ]
  },
  {
   "cell_type": "code",
   "execution_count": null,
   "id": "5feb136e-8f3b-4d1b-a1da-e9131edda8aa",
   "metadata": {},
   "outputs": [],
   "source": [
    "# TODO"
   ]
  },
  {
   "cell_type": "markdown",
   "id": "5780294c-9453-4144-8a12-4136b3d51f0d",
   "metadata": {},
   "source": [
    "### Progress Events"
   ]
  },
  {
   "cell_type": "code",
   "execution_count": 1,
   "id": "b62d6eda-fcd7-4070-8635-bf9e6b86ff76",
   "metadata": {},
   "outputs": [],
   "source": [
    "# TODO"
   ]
  },
  {
   "cell_type": "code",
   "execution_count": null,
   "id": "51fb8922-d2f7-42d4-b5b7-3c837f138fd6",
   "metadata": {},
   "outputs": [],
   "source": []
  },
  {
   "cell_type": "markdown",
   "id": "7262e2c9-8ee9-431b-855f-7ca3a7df68ff",
   "metadata": {},
   "source": [
    "### Custom Events"
   ]
  },
  {
   "cell_type": "code",
   "execution_count": 2,
   "id": "65ef052f-3f46-46fe-9218-5d5ac17783fb",
   "metadata": {},
   "outputs": [],
   "source": [
    "# TODO"
   ]
  },
  {
   "cell_type": "code",
   "execution_count": null,
   "id": "67921165-abd3-4079-a527-85427a431394",
   "metadata": {},
   "outputs": [],
   "source": []
  }
 ],
 "metadata": {
  "kernelspec": {
   "display_name": "Python 3 (ipykernel)",
   "language": "python",
   "name": "python3"
  },
  "language_info": {
   "codemirror_mode": {
    "name": "ipython",
    "version": 3
   },
   "file_extension": ".py",
   "mimetype": "text/x-python",
   "name": "python",
   "nbconvert_exporter": "python",
   "pygments_lexer": "ipython3",
   "version": "3.12.3"
  }
 },
 "nbformat": 4,
 "nbformat_minor": 5
}
