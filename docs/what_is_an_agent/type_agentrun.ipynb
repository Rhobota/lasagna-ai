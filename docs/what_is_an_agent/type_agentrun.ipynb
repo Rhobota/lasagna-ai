{
 "cells": [
  {
   "cell_type": "raw",
   "id": "dfe38afb-ac88-48c0-b6f0-6793a4a6f159",
   "metadata": {},
   "source": [
    "---\n",
    "title: \"The `AgentRun` type\"\n",
    "---"
   ]
  },
  {
   "cell_type": "code",
   "execution_count": 1,
   "id": "981f0825-d8b1-4ee8-8969-766096444fe0",
   "metadata": {},
   "outputs": [],
   "source": [
    "# 🚧 Under Construction 🏗️"
   ]
  },
  {
   "cell_type": "markdown",
   "id": "f2ce1e96-c46b-4155-8d06-0710004c4562",
   "metadata": {},
   "source": [
    "### Why the `AgentRun` type?\n",
    "\n",
    "Message representations are canonized. 😇"
   ]
  },
  {
   "cell_type": "markdown",
   "id": "538d0536-41df-4412-91ff-861740b62eb0",
   "metadata": {},
   "source": [
    "### Token Counts\n",
    "\n",
    "Unlike other libraries, token counts are carefully preserved inside Lasagna (no matter how many layered agents you're using). Don't rage when trying to get token counts! 😡 🤬"
   ]
  },
  {
   "cell_type": "code",
   "execution_count": 1,
   "id": "4a8e8d2e-374b-4134-b4ef-7c528faad3b7",
   "metadata": {},
   "outputs": [],
   "source": [
    "# TODO"
   ]
  },
  {
   "cell_type": "markdown",
   "id": "3bd03e9c-f8bf-4af3-b014-dbc380c488cf",
   "metadata": {},
   "source": [
    "### Easy Database Storage"
   ]
  },
  {
   "cell_type": "code",
   "execution_count": 2,
   "id": "8199de0f-d459-465a-bbb4-9515402be058",
   "metadata": {},
   "outputs": [],
   "source": [
    "# TODO"
   ]
  },
  {
   "cell_type": "raw",
   "id": "88d63f7c-6ac3-4739-ad7e-67654aaf887e",
   "metadata": {},
   "source": [
    "::: {.callout-note}\n",
    "## Database Storage\n",
    "\n",
    "The `AgentRun` type makes database storage easy. See [Database Management](../deployment/database.ipynb) for more information.\n",
    ":::"
   ]
  },
  {
   "cell_type": "raw",
   "id": "6ad54201-2ffc-47c1-bf51-531cdf632905",
   "metadata": {},
   "source": [
    "::: {.callout-note}\n",
    "## Best of two worlds!\n",
    "\n",
    "You can have _both_ **streaming** and **easy database storage**. See [Streaming & Events](../deployment/streaming_and_events.ipynb) for how to stream, which is an independent feature, so you can have _both_!\n",
    ":::"
   ]
  },
  {
   "cell_type": "code",
   "execution_count": null,
   "id": "02ecea50-ab74-4f54-bb6d-39d202ca6da9",
   "metadata": {},
   "outputs": [],
   "source": []
  }
 ],
 "metadata": {
  "kernelspec": {
   "display_name": "Python 3 (ipykernel)",
   "language": "python",
   "name": "python3"
  },
  "language_info": {
   "codemirror_mode": {
    "name": "ipython",
    "version": 3
   },
   "file_extension": ".py",
   "mimetype": "text/x-python",
   "name": "python",
   "nbconvert_exporter": "python",
   "pygments_lexer": "ipython3",
   "version": "3.12.3"
  }
 },
 "nbformat": 4,
 "nbformat_minor": 5
}
