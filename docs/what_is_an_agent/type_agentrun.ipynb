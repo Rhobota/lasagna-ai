{
 "cells": [
  {
   "cell_type": "raw",
   "id": "dfe38afb-ac88-48c0-b6f0-6793a4a6f159",
   "metadata": {},
   "source": [
    "---\n",
    "title: \"The `AgentRun` type\"\n",
    "---"
   ]
  },
  {
   "cell_type": "code",
   "execution_count": 1,
   "id": "981f0825-d8b1-4ee8-8969-766096444fe0",
   "metadata": {},
   "outputs": [],
   "source": [
    "# 🚧 Under Construction 🏗️"
   ]
  },
  {
   "cell_type": "code",
   "execution_count": null,
   "id": "4405f2b5-95b3-401e-9ce6-b42203e5bf80",
   "metadata": {},
   "outputs": [],
   "source": []
  },
  {
   "cell_type": "markdown",
   "id": "538d0536-41df-4412-91ff-861740b62eb0",
   "metadata": {},
   "source": [
    "### Token Counts\n",
    "\n",
    "Unlike other libraries, token counts are carefully preserved inside Lasagna (no matter how many layered agents you're using). Don't rage when trying to get token counts! 😡 🤬"
   ]
  },
  {
   "cell_type": "code",
   "execution_count": 1,
   "id": "4a8e8d2e-374b-4134-b4ef-7c528faad3b7",
   "metadata": {},
   "outputs": [],
   "source": [
    "# TODO"
   ]
  },
  {
   "cell_type": "markdown",
   "id": "3bd03e9c-f8bf-4af3-b014-dbc380c488cf",
   "metadata": {},
   "source": [
    "### Easy Database Storage"
   ]
  },
  {
   "cell_type": "code",
   "execution_count": 2,
   "id": "8199de0f-d459-465a-bbb4-9515402be058",
   "metadata": {},
   "outputs": [],
   "source": [
    "# TODO"
   ]
  },
  {
   "cell_type": "code",
   "execution_count": null,
   "id": "82d4f137-d6fc-4bca-b36d-7c6f2bab1318",
   "metadata": {},
   "outputs": [],
   "source": []
  },
  {
   "cell_type": "markdown",
   "id": "a4ac23a3-58b3-42d2-b024-271a124f89b3",
   "metadata": {},
   "source": [
    "### Best of both worlds!\n",
    "\n",
    "You can have _both_ **streaming** and **easy database storage**. See [Streaming & Events](./streaming_and_events.ipynb) for how to stream, an independent feature, so it doesn't affect the `AgentRun` return behavior discussed above."
   ]
  },
  {
   "cell_type": "code",
   "execution_count": null,
   "id": "02ecea50-ab74-4f54-bb6d-39d202ca6da9",
   "metadata": {},
   "outputs": [],
   "source": []
  }
 ],
 "metadata": {
  "kernelspec": {
   "display_name": "Python 3 (ipykernel)",
   "language": "python",
   "name": "python3"
  },
  "language_info": {
   "codemirror_mode": {
    "name": "ipython",
    "version": 3
   },
   "file_extension": ".py",
   "mimetype": "text/x-python",
   "name": "python",
   "nbconvert_exporter": "python",
   "pygments_lexer": "ipython3",
   "version": "3.12.3"
  }
 },
 "nbformat": 4,
 "nbformat_minor": 5
}
