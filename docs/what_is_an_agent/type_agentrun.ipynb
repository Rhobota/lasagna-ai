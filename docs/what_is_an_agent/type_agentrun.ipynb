{
 "cells": [
  {
   "cell_type": "raw",
   "id": "dfe38afb-ac88-48c0-b6f0-6793a4a6f159",
   "metadata": {},
   "source": [
    "---\n",
    "title: \"The `AgentRun` type\"\n",
    "---"
   ]
  },
  {
   "cell_type": "markdown",
   "id": "f553a576-890e-4927-92a2-a44d420c858b",
   "metadata": {},
   "source": [
    "The `AgentRun` type is the **core data structure** in Lasagna AI. It represents _what the agent generated_. It serves as both the input and output format for agents, enabling seamless composition and layering."
   ]
  },
  {
   "cell_type": "code",
   "execution_count": 1,
   "id": "c68f3505-41f9-4bdb-8f36-75606651f9d0",
   "metadata": {},
   "outputs": [],
   "source": [
    "# This page will use the following imports:\n",
    "from lasagna import AgentRun, Model, EventCallback, Message\n",
    "from lasagna import recursive_extract_messages, flat_messages\n",
    "from lasagna import recursive_sum_costs"
   ]
  },
  {
   "cell_type": "markdown",
   "id": "8a66ddf7-5308-477d-8698-05c41a505e94",
   "metadata": {},
   "source": [
    "## What is an `AgentRun`?\n",
    "\n",
    "An `AgentRun` is a `TypedDict` that captures an agent's execution:\n",
    "\n",
    "- **which agent ran** (agent name, model, provider)\n",
    "- **what it generated** (messages, structured data, or downstream `AgentRun`s)\n",
    "\n",
    "Indeed, the `AgentRun` data structure is recursive! That is, an `AgentRun` can contain other `AgentRun`s. This recursive nature reflects the execution path of layered agents (i.e., when an agent uses another agent during its execution)."
   ]
  },
  {
   "cell_type": "markdown",
   "id": "48c79484-85c4-4e97-bd05-5c8df47b460a",
   "metadata": {},
   "source": [
    "## The Four Types of `AgentRun`\n",
    "\n",
    "The `AgentRun` type is a Union of **four** different execution patterns:"
   ]
  },
  {
   "cell_type": "code",
   "execution_count": 2,
   "id": "d33284c3-cb28-4de6-8d50-28045b09e901",
   "metadata": {},
   "outputs": [],
   "source": [
    "from lasagna import (\n",
    "    # These are the unioned types:\n",
    "    AgentRunMessageList,\n",
    "    AgentRunParallel,\n",
    "    AgentRunChained,\n",
    "    AgentRunExtraction,\n",
    ")"
   ]
  },
  {
   "cell_type": "markdown",
   "id": "518799bc-c97c-4981-a9e4-315cac83aee2",
   "metadata": {},
   "source": [
    "### 1. `AgentRunMessageList` — Standard Conversation\n",
    "\n",
    "This is the most common type — a simple conversation between human and AI."
   ]
  },
  {
   "cell_type": "code",
   "execution_count": 3,
   "id": "9a6214fe-c40d-412b-b586-f32d0ea4c7e3",
   "metadata": {},
   "outputs": [],
   "source": [
    "simple_conversation: AgentRunMessageList = {\n",
    "    \"type\": \"messages\",\n",
    "    \"agent\": \"my_chat_agent\",  # ← agent name can be anything you want!\n",
    "    \"messages\": [\n",
    "        {\"role\": \"human\", \"text\": \"Hello!\"},\n",
    "        {\"role\": \"ai\", \"text\": \"Hi there! How can I help?\"},\n",
    "    ],\n",
    "}"
   ]
  },
  {
   "cell_type": "markdown",
   "id": "fd0537d8-50b7-4375-9aa2-4d0370cedef6",
   "metadata": {},
   "source": [
    "### 2. `AgentRunParallel` — Concurrent Execution\n",
    "\n",
    "Used when an agent spawns multiple sub-agents to work simultaneously (in parallel)."
   ]
  },
  {
   "cell_type": "code",
   "execution_count": 4,
   "id": "62591c28-e095-49db-a8b1-2759232df147",
   "metadata": {},
   "outputs": [],
   "source": [
    "parallel_subagents: AgentRunParallel = {\n",
    "    \"type\": \"parallel\",\n",
    "    \"agent\": \"committee_agent\",  # ← agent name can be anything you want!\n",
    "    \"runs\": [\n",
    "        # Multiple AgentRuns that executed in parallel:\n",
    "        # {...}, {...}, {...}\n",
    "    ],\n",
    "}"
   ]
  },
  {
   "cell_type": "markdown",
   "id": "866b714f-8e99-467b-894d-5ac1aa3219d2",
   "metadata": {},
   "source": [
    "### 3. `AgentRunChained` — Sequential Execution\n",
    "\n",
    "Used when an agent coordinates a sequence of sub-agents (\"chained subagents\")."
   ]
  },
  {
   "cell_type": "code",
   "execution_count": 5,
   "id": "a8c81659-5568-4919-827c-7e26bf9e3977",
   "metadata": {},
   "outputs": [],
   "source": [
    "chained_subagents: AgentRunChained = {\n",
    "    \"type\": \"chain\",\n",
    "    \"agent\": \"pipeline_agent\",  # ← agent name can be anything you want!\n",
    "    \"runs\": [\n",
    "        # AgentRuns that executed one after another:\n",
    "        # {...}, {...}, {...}\n",
    "    ],\n",
    "}"
   ]
  },
  {
   "cell_type": "markdown",
   "id": "0dffdf9e-e5bd-43e5-b1df-9ea67e4c31e2",
   "metadata": {},
   "source": [
    "### 4. `AgentRunExtraction` — Structured Output\n",
    "\n",
    "Used when an agent extracts structured data from its input."
   ]
  },
  {
   "cell_type": "code",
   "execution_count": 6,
   "id": "5fc12e6f-ae5b-4912-9e9a-e2fa9af8f7c1",
   "metadata": {},
   "outputs": [],
   "source": [
    "extracted_info: AgentRunExtraction = {\n",
    "    \"type\": \"extraction\",\n",
    "    \"agent\": \"data_extractor\",  # ← agent name can be anything you want!\n",
    "    \"messages\": [\n",
    "        # Model's generated messages will be here.\n",
    "        # Consider this an implementation detail; see the `result` below\n",
    "        # for the actual \"extraction result\".\n",
    "    ],\n",
    "    \"result\": {\n",
    "        # This is the payload that was extracted:\n",
    "        \"name\": \"John Doe\",\n",
    "        \"email\": \"john@example.com\", \n",
    "        \"age\": 30,\n",
    "    },\n",
    "}"
   ]
  },
  {
   "cell_type": "markdown",
   "id": "cabb3e60-de04-488e-8bf0-616e2443f275",
   "metadata": {},
   "source": [
    "## Patterns\n",
    "\n",
    "Much of your job writing code that uses Lasagna will be \"wrapping\" and \"unwrapping\" `AgentRun` objects. Each agent must:\n",
    "\n",
    "1. Consider the `AgentRun`s it has as input.\n",
    "2. (zero, one, or more times) Invoke its `model` to generate new messages.\n",
    "3. (zero, one, or more times) Invoke downstream agents.\n",
    "4. Wrap those messages (from step 2) and/or downstream `AgentRun`s (from step 3) into a new `AgentRun` and return it.\n",
    "\n",
    "Let's discuss this pattern and give some helper functions along the way!\n",
    "\n",
    "### Agent Composition Pattern\n",
    "\n",
    "The `AgentRun` type enables Lasagna's core composition pattern. Recall the standard agent signature:"
   ]
  },
  {
   "cell_type": "code",
   "execution_count": 7,
   "id": "6c79d20e-5603-491b-ba46-87b851998c6b",
   "metadata": {},
   "outputs": [],
   "source": [
    "async def my_agent(\n",
    "    model: Model,\n",
    "    event_callback: EventCallback,\n",
    "    prev_runs: list[AgentRun],  # ← Input: previous AgentRuns\n",
    ") -> AgentRun:                  # ← Output: new AgentRun\n",
    "    # Agent logic here... normally you'd do something with `prev_runs`.\n",
    "    return {\n",
    "        \"type\": \"messages\",\n",
    "        \"agent\": \"my_agent\",\n",
    "        \"messages\": [\n",
    "            {\"role\": \"ai\", \"text\": \"Hi there! How can I help?\"},\n",
    "        ],\n",
    "    }"
   ]
  },
  {
   "cell_type": "markdown",
   "id": "a7c36995-a83c-473f-86fd-947480847f4b",
   "metadata": {},
   "source": [
    "This pattern allows agents to:\n",
    "\n",
    "- **Build on previous work** by analyzing `prev_runs`.\n",
    "- **Chain together** by passing outputs as inputs to next agents.\n",
    "- **Compose into larger systems** through layering and delegation."
   ]
  },
  {
   "cell_type": "markdown",
   "id": "7cfd8a0c-6aa6-45c9-8710-ad07b6f4bb11",
   "metadata": {},
   "source": [
    "### Recursive Extract Messages\n",
    "\n",
    "Since an `AgentRun` can be a recursive data structure, yet models require a flattened list of messages, there's a convenience function to recursively extract all the messages found in an `AgentRun`:"
   ]
  },
  {
   "cell_type": "code",
   "execution_count": 8,
   "id": "845d7451-06ca-4e91-88b3-890d4c09d021",
   "metadata": {},
   "outputs": [
    {
     "data": {
      "text/plain": [
       "[{'role': 'human', 'text': 'Hello!'},\n",
       " {'role': 'ai', 'text': 'Hi there! How can I help?'}]"
      ]
     },
     "execution_count": 8,
     "metadata": {},
     "output_type": "execute_result"
    }
   ],
   "source": [
    "recursive_extract_messages([simple_conversation], from_tools=False)"
   ]
  },
  {
   "cell_type": "markdown",
   "id": "348b2df5-d16d-4c14-9422-fa127d75599d",
   "metadata": {},
   "source": [
    "### Wrap Messages into an `AgentRun`\n",
    "\n",
    "It is common that you have a list of messages that you want to return as an `AgentRun`, so there's a simple convenience function for that as well!"
   ]
  },
  {
   "cell_type": "code",
   "execution_count": 9,
   "id": "c5b5aa7e-0cce-4bb1-8f12-95aef6b20c2b",
   "metadata": {},
   "outputs": [
    {
     "data": {
      "text/plain": [
       "{'agent': 'my_agent',\n",
       " 'type': 'messages',\n",
       " 'messages': [{'role': 'human', 'text': 'Hello!'},\n",
       "  {'role': 'ai', 'text': 'Hi there! How can I help?'}]}"
      ]
     },
     "execution_count": 9,
     "metadata": {},
     "output_type": "execute_result"
    }
   ],
   "source": [
    "messages: list[Message] = [\n",
    "    {\"role\": \"human\", \"text\": \"Hello!\"},\n",
    "    {\"role\": \"ai\", \"text\": \"Hi there! How can I help?\"},\n",
    "]\n",
    "\n",
    "flat_messages('my_agent', messages)"
   ]
  },
  {
   "cell_type": "markdown",
   "id": "ff4dbc8e-2fd5-48f6-bf29-5790420852e1",
   "metadata": {},
   "source": [
    "### Put it all together!\n",
    "\n",
    "Using the patterns above, we've derived the \"most basic agent\" from the [Quickstart](../quickstart.ipynb). Recall, this agent is very simple:\n",
    "\n",
    "1. It extracts all previous messages.\n",
    "2. Passes those messages to the model, which generates new messages.\n",
    "3. Returns those new messages as an `AgentRun`."
   ]
  },
  {
   "cell_type": "code",
   "execution_count": 10,
   "id": "7e497926-4aca-407b-8a86-157b1e5ef31d",
   "metadata": {},
   "outputs": [],
   "source": [
    "async def my_basic_agent(\n",
    "    model: Model,\n",
    "    event_callback: EventCallback,\n",
    "    prev_runs: list[AgentRun],\n",
    ") -> AgentRun:\n",
    "    messages = recursive_extract_messages(prev_runs, from_tools=False)\n",
    "    new_messages = await model.run(event_callback, messages, tools=[])\n",
    "    this_run = flat_messages('my_agent', new_messages)\n",
    "    return this_run"
   ]
  },
  {
   "cell_type": "markdown",
   "id": "f2ce1e96-c46b-4155-8d06-0710004c4562",
   "metadata": {},
   "source": [
    "## Other Benefits of the `AgentRun` type\n",
    "\n",
    "### Canonized Message Representations 😇\n",
    "\n",
    "The `AgentRun` type provides a **standardized format** for representing any agent execution, regardless of which agent or which underlying model was invoked. Whether your agent is a simple chatbot or a complex multi-agent system, it all gets represented in the same consistent format.\n",
    "\n",
    "This canonization means:\n",
    "\n",
    "- **Type safety:** Static analysis catches mismatches at development time! See [Intro to Type Hints](../misc/python_type_hints.ipynb) if you're new to static type checking.\n",
    "- **Model swapping:** You can swap providers or models at any point; data types will stay the same! See [Model-swap Example](../recipes/swapping_providers.ipynb).\n",
    "- **Layering:** You can develop an agent as the root, then later on use it as a subagent. See [Layering](../agent_features/layering.ipynb)."
   ]
  },
  {
   "cell_type": "markdown",
   "id": "538d0536-41df-4412-91ff-861740b62eb0",
   "metadata": {},
   "source": [
    "### Token Count Preservation\n",
    "\n",
    "Unlike other AI frameworks, Lasagna AI **meticulously tracks token usage** throughout your entire agent system. Token counts are preserved inside every `AgentRun`, no matter how many layers of agents you stack.\n",
    "\n",
    "Each `Message` within an `AgentRun` can include cost information:"
   ]
  },
  {
   "cell_type": "code",
   "execution_count": 11,
   "id": "8e11b9c8-7d41-4394-a58c-82f3b5d55354",
   "metadata": {},
   "outputs": [],
   "source": [
    "this_run: AgentRun = {\n",
    "    \"type\": \"messages\",\n",
    "    \"agent\": \"my_agent\",\n",
    "    \"messages\": [\n",
    "        {\n",
    "            \"role\": \"ai\",\n",
    "            \"text\": \"Hi there! How can I help?\",\n",
    "            \"cost\": {\n",
    "                \"input_tokens\": 150,\n",
    "                \"output_tokens\": 75, \n",
    "                \"total_tokens\": 225,\n",
    "            },\n",
    "        },\n",
    "    ],\n",
    "}"
   ]
  },
  {
   "cell_type": "markdown",
   "id": "b847f8d4-69c2-4607-9176-a18efb595ffa",
   "metadata": {},
   "source": [
    "**Why this matters:**\n",
    "\n",
    "- **Accurate billing:** Know exactly what each agent execution costs.\n",
    "- **Performance optimization:** Identify expensive operations in complex systems.\n",
    "- **Budget management:** Set limits and track usage across layered agents.\n",
    "- **No surprises:** Token counts don't get lost in multi-agent workflows.\n",
    "\n",
    "Here is a convenient helper function to recursively sum the cost across an entire `AgentRun`:"
   ]
  },
  {
   "cell_type": "code",
   "execution_count": 12,
   "id": "baeeab9a-1666-4a32-98b9-65d2136921ab",
   "metadata": {},
   "outputs": [
    {
     "data": {
      "text/plain": [
       "{'input_tokens': 150, 'output_tokens': 75, 'total_tokens': 225}"
      ]
     },
     "execution_count": 12,
     "metadata": {},
     "output_type": "execute_result"
    }
   ],
   "source": [
    "recursive_sum_costs(this_run)"
   ]
  },
  {
   "cell_type": "markdown",
   "id": "dc311ab6-1504-4211-bc49-0c64fe1874b1",
   "metadata": {},
   "source": [
    "### Immutable by Design\n",
    "\n",
    "`AgentRun` follows functional-programming principles — once created, it never changes. This provides:\n",
    "\n",
    "- **Thread and coroutine safety:** No race conditions in concurrent environments.\n",
    "- **Predictable behavior:** No surprise modifications to debug.\n",
    "\n",
    "### JSON Serializable\n",
    "\n",
    "Since `AgentRun` is a `TypedDict`, it's just a Python `dict` at runtime:\n",
    "\n",
    "- **Database storage:** Store directly in JSON columns or document stores.\n",
    "- **API communication:** Send over HTTP/WebSocket without complicated serialization.\n",
    "- **Caching:** Easy to cache and retrieve from Redis, memcached, etc.\n",
    "- **Logging:** Human-readable, and can be pretty printed into logs."
   ]
  },
  {
   "cell_type": "raw",
   "id": "88d63f7c-6ac3-4739-ad7e-67654aaf887e",
   "metadata": {},
   "source": [
    "::: {.callout-note}\n",
    "## Database Storage\n",
    "\n",
    "The `AgentRun` type makes database storage easy. See [Database Management](../deployment/database.ipynb) for more information.\n",
    ":::"
   ]
  },
  {
   "cell_type": "raw",
   "id": "6ad54201-2ffc-47c1-bf51-531cdf632905",
   "metadata": {},
   "source": [
    "::: {.callout-note}\n",
    "## Best of two worlds!\n",
    "\n",
    "You can have _both_ **streaming** and **easy database storage**. See [Streaming & Events](../deployment/streaming_and_events.ipynb) for how to stream, which is an independent feature, so you can have _both_!\n",
    ":::"
   ]
  },
  {
   "cell_type": "code",
   "execution_count": null,
   "id": "f44b4534-2471-4b77-ba27-8efeaf3cc0fe",
   "metadata": {},
   "outputs": [],
   "source": []
  }
 ],
 "metadata": {
  "kernelspec": {
   "display_name": "Python 3 (ipykernel)",
   "language": "python",
   "name": "python3"
  },
  "language_info": {
   "codemirror_mode": {
    "name": "ipython",
    "version": 3
   },
   "file_extension": ".py",
   "mimetype": "text/x-python",
   "name": "python",
   "nbconvert_exporter": "python",
   "pygments_lexer": "ipython3",
   "version": "3.12.3"
  }
 },
 "nbformat": 4,
 "nbformat_minor": 5
}
