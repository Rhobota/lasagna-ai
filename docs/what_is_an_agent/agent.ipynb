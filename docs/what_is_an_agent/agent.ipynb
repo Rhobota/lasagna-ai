{
 "cells": [
  {
   "cell_type": "raw",
   "id": "d6734406-dc8b-4727-be3e-9e2055385035",
   "metadata": {},
   "source": [
    "---\n",
    "title: \"The Lasagna `Agent`\"\n",
    "---"
   ]
  },
  {
   "cell_type": "code",
   "execution_count": 1,
   "id": "a81da2c4-2109-4a56-b157-bd53383903b5",
   "metadata": {},
   "outputs": [],
   "source": [
    "# 🚧 Under Construction 🏗️"
   ]
  },
  {
   "cell_type": "code",
   "execution_count": null,
   "id": "333ba306-7f00-4953-b96e-143de89597c9",
   "metadata": {},
   "outputs": [],
   "source": []
  }
 ],
 "metadata": {
  "kernelspec": {
   "display_name": "Python 3 (ipykernel)",
   "language": "python",
   "name": "python3"
  },
  "language_info": {
   "codemirror_mode": {
    "name": "ipython",
    "version": 3
   },
   "file_extension": ".py",
   "mimetype": "text/x-python",
   "name": "python",
   "nbconvert_exporter": "python",
   "pygments_lexer": "ipython3",
   "version": "3.12.3"
  }
 },
 "nbformat": 4,
 "nbformat_minor": 5
}
