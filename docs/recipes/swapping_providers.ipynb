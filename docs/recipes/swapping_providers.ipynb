{
 "cells": [
  {
   "cell_type": "raw",
   "id": "5e7d620d-9c61-4f0f-9427-646c44468923",
   "metadata": {},
   "source": [
    "---\n",
    "title: \"Model-swap Example\"\n",
    "---"
   ]
  },
  {
   "cell_type": "code",
   "execution_count": 1,
   "id": "db75e279-20a8-427e-bdab-e014f818bcc6",
   "metadata": {},
   "outputs": [],
   "source": [
    "# 🚧 Under Construction 🏗️"
   ]
  },
  {
   "cell_type": "markdown",
   "id": "648cc6ca-c81d-406e-90f7-dca8c9c445c7",
   "metadata": {},
   "source": [
    "Swap providers or models mid-conversation!"
   ]
  },
  {
   "cell_type": "code",
   "execution_count": null,
   "id": "12a2a70a-7ce9-4802-9e8c-8c574b7ec64a",
   "metadata": {},
   "outputs": [],
   "source": []
  }
 ],
 "metadata": {
  "kernelspec": {
   "display_name": "Python 3 (ipykernel)",
   "language": "python",
   "name": "python3"
  },
  "language_info": {
   "codemirror_mode": {
    "name": "ipython",
    "version": 3
   },
   "file_extension": ".py",
   "mimetype": "text/x-python",
   "name": "python",
   "nbconvert_exporter": "python",
   "pygments_lexer": "ipython3",
   "version": "3.12.3"
  }
 },
 "nbformat": 4,
 "nbformat_minor": 5
}
