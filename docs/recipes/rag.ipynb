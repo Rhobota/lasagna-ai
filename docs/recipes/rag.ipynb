{
 "cells": [
  {
   "cell_type": "markdown",
   "id": "ec2a9b30-92f5-4a41-8542-d4005a8e5b8a",
   "metadata": {},
   "source": [
    "# RAG Recipe"
   ]
  },
  {
   "cell_type": "code",
   "execution_count": 1,
   "id": "f945999a-5546-430c-8da2-d376ac93efb8",
   "metadata": {},
   "outputs": [],
   "source": [
    "# TODO"
   ]
  },
  {
   "cell_type": "code",
   "execution_count": null,
   "id": "6388783d-a8d7-4e30-b5b1-b4f3d8fdf05c",
   "metadata": {},
   "outputs": [],
   "source": []
  }
 ],
 "metadata": {
  "kernelspec": {
   "display_name": "Python 3 (ipykernel)",
   "language": "python",
   "name": "python3"
  },
  "language_info": {
   "codemirror_mode": {
    "name": "ipython",
    "version": 3
   },
   "file_extension": ".py",
   "mimetype": "text/x-python",
   "name": "python",
   "nbconvert_exporter": "python",
   "pygments_lexer": "ipython3",
   "version": "3.8.20"
  }
 },
 "nbformat": 4,
 "nbformat_minor": 5
}
