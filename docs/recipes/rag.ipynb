{
 "cells": [
  {
   "cell_type": "raw",
   "id": "8ff1edd4-154a-4806-9085-3733c1590146",
   "metadata": {},
   "source": [
    "---\n",
    "title: \"RAG Example\"\n",
    "---"
   ]
  },
  {
   "cell_type": "markdown",
   "id": "9455860d-ebc5-4eb4-a221-dc6b06ec7a9d",
   "metadata": {},
   "source": [
    "**Simple RAG:** Everyone's favorite tool: _Retrieval Augmented Generation_ (RAG). Let's GO! 📚💨"
   ]
  },
  {
   "cell_type": "code",
   "execution_count": 1,
   "id": "f945999a-5546-430c-8da2-d376ac93efb8",
   "metadata": {},
   "outputs": [],
   "source": [
    "# 🚧 Under Construction 🏗️"
   ]
  },
  {
   "cell_type": "code",
   "execution_count": null,
   "id": "6388783d-a8d7-4e30-b5b1-b4f3d8fdf05c",
   "metadata": {},
   "outputs": [],
   "source": []
  }
 ],
 "metadata": {
  "kernelspec": {
   "display_name": "Python 3 (ipykernel)",
   "language": "python",
   "name": "python3"
  },
  "language_info": {
   "codemirror_mode": {
    "name": "ipython",
    "version": 3
   },
   "file_extension": ".py",
   "mimetype": "text/x-python",
   "name": "python",
   "nbconvert_exporter": "python",
   "pygments_lexer": "ipython3",
   "version": "3.12.3"
  }
 },
 "nbformat": 4,
 "nbformat_minor": 5
}
