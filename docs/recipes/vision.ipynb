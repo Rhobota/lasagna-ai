{
 "cells": [
  {
   "cell_type": "raw",
   "id": "5e7d620d-9c61-4f0f-9427-646c44468923",
   "metadata": {},
   "source": [
    "---\n",
    "title: \"Vision Example\"\n",
    "---"
   ]
  },
  {
   "cell_type": "code",
   "execution_count": 1,
   "id": "db75e279-20a8-427e-bdab-e014f818bcc6",
   "metadata": {},
   "outputs": [],
   "source": [
    "# 🚧 Under Construction 🏗️"
   ]
  },
  {
   "cell_type": "markdown",
   "id": "b8f5c51c-98fe-45ca-b933-f537c4573330",
   "metadata": {},
   "source": [
    "Lasagna AI supports vision! (when using a multimodal models)"
   ]
  },
  {
   "cell_type": "code",
   "execution_count": null,
   "id": "2fecf1b0-af4a-4862-83e1-862b158a818e",
   "metadata": {},
   "outputs": [],
   "source": []
  }
 ],
 "metadata": {
  "kernelspec": {
   "display_name": "Python 3 (ipykernel)",
   "language": "python",
   "name": "python3"
  },
  "language_info": {
   "codemirror_mode": {
    "name": "ipython",
    "version": 3
   },
   "file_extension": ".py",
   "mimetype": "text/x-python",
   "name": "python",
   "nbconvert_exporter": "python",
   "pygments_lexer": "ipython3",
   "version": "3.12.3"
  }
 },
 "nbformat": 4,
 "nbformat_minor": 5
}
