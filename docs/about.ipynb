{
 "cells": [
  {
   "cell_type": "raw",
   "id": "07ff9ac5-8f72-4265-a77a-0c976de7f012",
   "metadata": {},
   "source": [
    "---\n",
    "title: \"💡 About\"\n",
    "order: 999\n",
    "---"
   ]
  },
  {
   "cell_type": "markdown",
   "id": "c1f0c4be-aaf3-4fcc-a9a4-4edeaf00a674",
   "metadata": {},
   "source": [
    "## Used By\n",
    "\n",
    "Lasagna AI is used in production by:\n",
    "\n",
    "[![](https://raw.githubusercontent.com/Rhobota/lasagna-ai/main/logos/autoauto.png)](https://www.autoauto.ai/)\n",
    "\n",
    "**Send us a PR if you also use Lasagna AI!**"
   ]
  },
  {
   "cell_type": "markdown",
   "id": "3a6aa4b5-bc96-4da6-b7eb-93aa8e94c6a8",
   "metadata": {},
   "source": [
    "## Special Thanks\n",
    "\n",
    "Special thanks to those who inspired this library:\n",
    "\n",
    "- Numa Dhamani (buy her book: [Introduction to Generative AI](https://a.co/d/03dHnRmX))\n",
    "- Dave DeCaprio's [voice-stream library](https://github.com/DaveDeCaprio/voice-stream)"
   ]
  },
  {
   "cell_type": "markdown",
   "id": "eafb2d22-2504-42aa-a5a1-2c995f673427",
   "metadata": {},
   "source": [
    "## License\n",
    "\n",
    "`lasagna-ai` is distributed under the terms of the [MIT](https://spdx.org/licenses/MIT.html) license.\n"
   ]
  },
  {
   "cell_type": "markdown",
   "id": "df89352d-c970-464b-8afa-b3cfe5740408",
   "metadata": {},
   "source": [
    "## Joke Acronym\n",
    "\n",
    "Layered Agents with toolS And aGeNts and Ai\n"
   ]
  },
  {
   "cell_type": "code",
   "execution_count": null,
   "id": "1499ae79-d55b-43c2-ac24-5d124ef4ffa9",
   "metadata": {},
   "outputs": [],
   "source": []
  }
 ],
 "metadata": {
  "kernelspec": {
   "display_name": "Python 3 (ipykernel)",
   "language": "python",
   "name": "python3"
  },
  "language_info": {
   "codemirror_mode": {
    "name": "ipython",
    "version": 3
   },
   "file_extension": ".py",
   "mimetype": "text/x-python",
   "name": "python",
   "nbconvert_exporter": "python",
   "pygments_lexer": "ipython3",
   "version": "3.12.3"
  }
 },
 "nbformat": 4,
 "nbformat_minor": 5
}
