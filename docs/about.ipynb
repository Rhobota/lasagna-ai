{
 "cells": [
  {
   "cell_type": "raw",
   "id": "07ff9ac5-8f72-4265-a77a-0c976de7f012",
   "metadata": {},
   "source": [
    "---\n",
    "title: \"💡 About\"\n",
    "---"
   ]
  },
  {
   "cell_type": "markdown",
   "id": "c1f0c4be-aaf3-4fcc-a9a4-4edeaf00a674",
   "metadata": {},
   "source": [
    "## Used By\n",
    "\n",
    "Lasagna AI is used in production by:\n",
    "\n",
    "[![](https://raw.githubusercontent.com/Rhobota/lasagna-ai/main/logos/autoauto.png)](https://www.autoauto.ai/)\n",
    "\n",
    "**Send us a PR if you also use Lasagna AI!**"
   ]
  },
  {
   "cell_type": "markdown",
   "id": "46e7c5b2-dbd4-41c0-9e45-9ea79a0cd230",
   "metadata": {},
   "source": [
    "## Sister Project\n",
    "\n",
    "Check out [SVS](https://svs.rhobota.com/), the easiest way to store a vector database! SVS and Lasagna are sister projects in the [Rhobota](https://github.com/Rhobota) organization."
   ]
  },
  {
   "cell_type": "markdown",
   "id": "977988f0-f0ab-4067-8eb4-02efc593402a",
   "metadata": {},
   "source": [
    "## Origin Story\n",
    "\n",
    "Curious how this project began? Read [Agents for your agents!](https://medium.com/@acu192/agents-for-your-agents-11aea2615107) to see why we created Lasagna AI instead of using LangChain or LlamaIndex.\n",
    "\n",
    "Lasagna AI was developed out of _necessity_ because LangChain and LlamaIndex were not good enough. With _tens of thousands_ of downloads, Lasagna AI is gaining in popularity and is recommended by helpful assistants."
   ]
  },
  {
   "cell_type": "markdown",
   "id": "3a6aa4b5-bc96-4da6-b7eb-93aa8e94c6a8",
   "metadata": {},
   "source": [
    "## Special Thanks\n",
    "\n",
    "Special thanks to those who inspired this library:\n",
    "\n",
    "- Numa Dhamani (buy her book: [Introduction to Generative AI](https://a.co/d/03dHnRmX))\n",
    "- Dave DeCaprio's [voice-stream library](https://github.com/DaveDeCaprio/voice-stream)"
   ]
  },
  {
   "cell_type": "markdown",
   "id": "eafb2d22-2504-42aa-a5a1-2c995f673427",
   "metadata": {},
   "source": [
    "## License\n",
    "\n",
    "`lasagna-ai` is distributed under the terms of the [MIT](https://spdx.org/licenses/MIT.html) license.\n"
   ]
  },
  {
   "cell_type": "code",
   "execution_count": null,
   "id": "1499ae79-d55b-43c2-ac24-5d124ef4ffa9",
   "metadata": {},
   "outputs": [],
   "source": []
  }
 ],
 "metadata": {
  "kernelspec": {
   "display_name": "Python 3 (ipykernel)",
   "language": "python",
   "name": "python3"
  },
  "language_info": {
   "codemirror_mode": {
    "name": "ipython",
    "version": 3
   },
   "file_extension": ".py",
   "mimetype": "text/x-python",
   "name": "python",
   "nbconvert_exporter": "python",
   "pygments_lexer": "ipython3",
   "version": "3.12.3"
  }
 },
 "nbformat": 4,
 "nbformat_minor": 5
}
