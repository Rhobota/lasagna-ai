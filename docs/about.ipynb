{
 "cells": [
  {
   "cell_type": "raw",
   "id": "07ff9ac5-8f72-4265-a77a-0c976de7f012",
   "metadata": {},
   "source": [
    "---\n",
    "title: \"💡 About\"\n",
    "order: 999\n",
    "---"
   ]
  },
  {
   "cell_type": "markdown",
   "id": "844197d8-d55f-4fc5-bf61-0ebde0dd4c7b",
   "metadata": {},
   "source": [
    "This is the About page. # TODO"
   ]
  },
  {
   "cell_type": "code",
   "execution_count": null,
   "id": "5a42da20-d753-4de0-a431-6fe0d9c614d2",
   "metadata": {},
   "outputs": [],
   "source": []
  }
 ],
 "metadata": {
  "kernelspec": {
   "display_name": "Python 3 (ipykernel)",
   "language": "python",
   "name": "python3"
  },
  "language_info": {
   "codemirror_mode": {
    "name": "ipython",
    "version": 3
   },
   "file_extension": ".py",
   "mimetype": "text/x-python",
   "name": "python",
   "nbconvert_exporter": "python",
   "pygments_lexer": "ipython3",
   "version": "3.12.3"
  }
 },
 "nbformat": 4,
 "nbformat_minor": 5
}
