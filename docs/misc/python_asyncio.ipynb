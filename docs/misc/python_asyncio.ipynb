{
 "cells": [
  {
   "cell_type": "raw",
   "id": "86cf20a3-908f-45e0-a0d7-a42ac03c8834",
   "metadata": {},
   "source": [
    "---\n",
    "title: \"Intro to Python Asyncio\"\n",
    "---"
   ]
  },
  {
   "cell_type": "markdown",
   "id": "bdcb7463-6f4b-49ea-b134-5297459a9da3",
   "metadata": {},
   "source": [
    "Lasagna AI is production-focused and fully async, so it plays nicely with remote APIs and modern Python web frameworks. If `asyncio` is new to you, read [Python & Async Simplified](https://www.aeracode.org/2018/02/19/python-async-simplified/)."
   ]
  },
  {
   "cell_type": "code",
   "execution_count": 1,
   "id": "817dc241-57e6-4893-86c1-260c7f4d7e48",
   "metadata": {},
   "outputs": [],
   "source": [
    "# 🚧 Under Construction 🏗️"
   ]
  },
  {
   "cell_type": "code",
   "execution_count": null,
   "id": "d19524ff-cd8f-4e91-bb16-cc5de6fecaa4",
   "metadata": {},
   "outputs": [],
   "source": []
  }
 ],
 "metadata": {
  "kernelspec": {
   "display_name": "Python 3 (ipykernel)",
   "language": "python",
   "name": "python3"
  },
  "language_info": {
   "codemirror_mode": {
    "name": "ipython",
    "version": 3
   },
   "file_extension": ".py",
   "mimetype": "text/x-python",
   "name": "python",
   "nbconvert_exporter": "python",
   "pygments_lexer": "ipython3",
   "version": "3.12.3"
  }
 },
 "nbformat": 4,
 "nbformat_minor": 5
}
