{
 "cells": [
  {
   "cell_type": "raw",
   "id": "9b9966d8-e8a3-420a-807d-e562cec309db",
   "metadata": {},
   "source": [
    "---\n",
    "title: \"Recursive Agent\"\n",
    "---"
   ]
  },
  {
   "cell_type": "markdown",
   "id": "d710f2dc-7da9-44c2-bce4-62609e8b4505",
   "metadata": {},
   "source": [
    "Ever wanted a recursive agent? Now you can have one! 🤯"
   ]
  },
  {
   "cell_type": "code",
   "execution_count": 1,
   "id": "d0f90b80-ebc5-49ae-acc7-5d6a9991b296",
   "metadata": {},
   "outputs": [],
   "source": [
    "# This page will use the following imports:\n",
    "\n",
    "from lasagna import Model, EventCallback, AgentRun\n",
    "from lasagna import (\n",
    "    recursive_extract_messages,\n",
    "    override_system_prompt,\n",
    "    noop_callback,\n",
    "    extraction,\n",
    "    parallel_runs,\n",
    ")\n",
    "from lasagna import known_models\n",
    "from lasagna.tui import tui_input_loop\n",
    "\n",
    "from pydantic import BaseModel, Field\n",
    "\n",
    "import os\n",
    "import asyncio\n",
    "\n",
    "from dotenv import load_dotenv"
   ]
  },
  {
   "cell_type": "markdown",
   "id": "3548bdfd-0a87-4168-a176-03ec45be7c16",
   "metadata": {},
   "source": [
    "We need to set up our \"binder\" (see the [quickstart guide](../quickstart.ipynb) for what this is)."
   ]
  },
  {
   "cell_type": "code",
   "execution_count": 2,
   "id": "711e189e-f17c-4678-bac1-bfb69f41d8c6",
   "metadata": {},
   "outputs": [
    {
     "name": "stdout",
     "output_type": "stream",
     "text": [
      "Using Anthropic\n"
     ]
    }
   ],
   "source": [
    "load_dotenv()\n",
    "\n",
    "if os.environ.get('ANTHROPIC_API_KEY'):\n",
    "    print('Using Anthropic')\n",
    "    binder = known_models.anthropic_claude_sonnet_4_binder\n",
    "\n",
    "elif os.environ.get('OPENAI_API_KEY'):\n",
    "    print('Using OpenAI')\n",
    "    binder = known_models.openai_gpt_5_mini_binder\n",
    "\n",
    "else:\n",
    "    assert False, \"Neither OPENAI_API_KEY nor ANTHROPIC_API_KEY is set! We need at least one to do this demo.\""
   ]
  },
  {
   "cell_type": "markdown",
   "id": "70fe9992-32ea-447d-bb57-d8944978e2b8",
   "metadata": {},
   "source": [
    "## Example: Recursive Task Breakdown\n",
    "\n",
    "Let's build a planning agent. It will recursively break a complex task into subtasks (and those subtasks into subsubtasks, etc)."
   ]
  },
  {
   "cell_type": "code",
   "execution_count": 8,
   "id": "3472b27c-b296-4a47-b186-529298fa3ff7",
   "metadata": {},
   "outputs": [],
   "source": [
    "class Plan(BaseModel):\n",
    "    thoughts: str = Field(description='your free-form thoughts')\n",
    "    task_statement: str = Field(description='a concisely-stated task description')\n",
    "    is_trivial: bool = Field(description=\"true if this task has a trivial solution (such as a simple math calculation, a simple fact lookup, etc); false if this task needs to be broken up into subtasks\")\n",
    "    sub_tasks: list[str] = Field(description=\"an ordered list of subtasks that need to be performed in order to complete the task statement (if not trivial); else an empty list (if trivial)\")\n",
    "\n",
    "\n",
    "@binder\n",
    "async def planning_agent(\n",
    "    model: Model,\n",
    "    event_callback: EventCallback,\n",
    "    prev_runs: list[AgentRun],\n",
    ") -> AgentRun:\n",
    "    messages = recursive_extract_messages(prev_runs, from_tools=False, from_extraction=False)\n",
    "    messages = override_system_prompt(messages, \"You plan the execution of a task by analyzing it, determining its complexities, and (if required) breaking it up into subtasks.\")\n",
    "    message, result = await model.extract(\n",
    "        event_callback,\n",
    "        messages = messages,\n",
    "        extraction_type = Plan,\n",
    "    )\n",
    "    # TODO: add the recursive stuff\n",
    "    return extraction('planning_agent', [message], result)"
   ]
  },
  {
   "cell_type": "code",
   "execution_count": 9,
   "id": "8185a7dc-8cc4-41fa-8191-f2d579388679",
   "metadata": {},
   "outputs": [
    {
     "name": "stdin",
     "output_type": "stream",
     "text": [
      "\u001b[32m\u001b[1m>  Hi\n"
     ]
    },
    {
     "name": "stdout",
     "output_type": "stream",
     "text": [
      "\u001b[0m\u001b[0m\u001b[0m\u001b[31mPlan(\u001b[0m\u001b[31m{\"\u001b[0m\u001b[31mthoughts\": \"\u001b[0m\u001b[31mThe use\u001b[0m\u001b[31mr \u001b[0m\u001b[31mjust\u001b[0m\u001b[31m said \u001b[0m\u001b[31m\\\"Hi\\\" whi\u001b[0m\u001b[31mch \u001b[0m\u001b[31mis a sim\u001b[0m\u001b[31mple greet\u001b[0m\u001b[31ming.\u001b[0m\u001b[31m This is \u001b[0m\u001b[31mno\u001b[0m\u001b[31mt \u001b[0m\u001b[31mreal\u001b[0m\u001b[31mly a task t\u001b[0m\u001b[31mhat nee\u001b[0m\u001b[31mds to be co\u001b[0m\u001b[31mmple\u001b[0m\u001b[31mted or brok\u001b[0m\u001b[31men \u001b[0m\u001b[31mdown in\u001b[0m\u001b[31mto subtas\u001b[0m\u001b[31mks - it's \u001b[0m\u001b[31mjust \u001b[0m\u001b[31ma social \u001b[0m\u001b[31min\u001b[0m\u001b[31mteract\u001b[0m\u001b[31mion. I s\u001b[0m\u001b[31mhou\u001b[0m\u001b[31mld tre\u001b[0m\u001b[31mat this\u001b[0m\u001b[31m as a tri\u001b[0m\u001b[31mvial c\u001b[0m\u001b[31mas\u001b[0m\u001b[31me since t\u001b[0m\u001b[31mhere's\u001b[0m\u001b[31m no \u001b[0m\u001b[31mactual \u001b[0m\u001b[31mwo\u001b[0m\u001b[31mrk o\u001b[0m\u001b[31mr pro\u001b[0m\u001b[31mblem-solving\u001b[0m\u001b[31m inv\u001b[0m\u001b[31molved.\"\u001b[0m\u001b[31m, \"task_s\u001b[0m\u001b[31mtatement\":\u001b[0m\u001b[31m \"Resp\u001b[0m\u001b[31mond to\u001b[0m\u001b[31m a greetin\u001b[0m\u001b[31mg\"\u001b[0m\u001b[31m, \"is_trivia\u001b[0m\u001b[31ml\":\u001b[0m\u001b[31m t\u001b[0m\u001b[31mrue\u001b[0m\u001b[31m, \"sub_task\u001b[0m\u001b[31ms\": []}\u001b[0m\u001b[31m)\n",
      "\u001b[0m\u001b[0m\u001b[0m\u001b[0m\u001b[0m\n"
     ]
    },
    {
     "name": "stdin",
     "output_type": "stream",
     "text": [
      "\u001b[32m\u001b[1m>  Find all Disney movies with a rotten tomatoe score of 90 or more\n"
     ]
    },
    {
     "name": "stdout",
     "output_type": "stream",
     "text": [
      "\u001b[0m\u001b[0m\u001b[0m\u001b[31mPlan(\u001b[0m\u001b[31m{\"\u001b[0m\u001b[31mthought\u001b[0m\u001b[31ms\": \"This \u001b[0m\u001b[31mtask re\u001b[0m\u001b[31mquires fi\u001b[0m\u001b[31mnding\u001b[0m\u001b[31m Disney m\u001b[0m\u001b[31movies \u001b[0m\u001b[31mwith \u001b[0m\u001b[31ma Rotten Tom\u001b[0m\u001b[31matoes sc\u001b[0m\u001b[31more of \u001b[0m\u001b[31m90% or \u001b[0m\u001b[31mhigh\u001b[0m\u001b[31mer. T\u001b[0m\u001b[31mhis is not a\u001b[0m\u001b[31m trivial t\u001b[0m\u001b[31mask beca\u001b[0m\u001b[31mus\u001b[0m\u001b[31me it inv\u001b[0m\u001b[31molves \u001b[0m\u001b[31mmultipl\u001b[0m\u001b[31me steps: I \u001b[0m\u001b[31mneed to iden\u001b[0m\u001b[31mtify what \u001b[0m\u001b[31mconstitutes\u001b[0m\u001b[31m \\\u001b[0m\u001b[31m\"Disney\u001b[0m\u001b[31m movies\\\" \u001b[0m\u001b[31m(whic\u001b[0m\u001b[31mh coul\u001b[0m\u001b[31md incl\u001b[0m\u001b[31mude d\u001b[0m\u001b[31mifferent \u001b[0m\u001b[31mstudio\u001b[0m\u001b[31ms under Disn\u001b[0m\u001b[31mey), fin\u001b[0m\u001b[31md \u001b[0m\u001b[31mthe\u001b[0m\u001b[31mir\u001b[0m\u001b[31m Ro\u001b[0m\u001b[31mtten Tomat\u001b[0m\u001b[31moes scores,\u001b[0m\u001b[31m filter for \u001b[0m\u001b[31mthose with 9\u001b[0m\u001b[31m0% or highe\u001b[0m\u001b[31mr, and comp\u001b[0m\u001b[31mile\u001b[0m\u001b[31m a com\u001b[0m\u001b[31mprehensi\u001b[0m\u001b[31mve li\u001b[0m\u001b[31mst.\u001b[0m\u001b[31m Thi\u001b[0m\u001b[31ms \u001b[0m\u001b[31mwil\u001b[0m\u001b[31ml requi\u001b[0m\u001b[31mre research \u001b[0m\u001b[31mand data ga\u001b[0m\u001b[31mthering \u001b[0m\u001b[31mfrom\u001b[0m\u001b[31m multiple so\u001b[0m\u001b[31murces.\"\u001b[0m\u001b[31m, \"task_sta\u001b[0m\u001b[31mtement\"\u001b[0m\u001b[31m: \"Find all\u001b[0m\u001b[31m Disney \u001b[0m\u001b[31mmo\u001b[0m\u001b[31mvies \u001b[0m\u001b[31mwith a \u001b[0m\u001b[31mRotte\u001b[0m\u001b[31mn Tomatoes \u001b[0m\u001b[31mscore of 90\u001b[0m\u001b[31m% or highe\u001b[0m\u001b[31mr\"\u001b[0m\u001b[31m, \"is_triv\u001b[0m\u001b[31mial\": fa\u001b[0m\u001b[31mlse\u001b[0m\u001b[31m, \"sub_\u001b[0m\u001b[31mtasks\": [\"De\u001b[0m\u001b[31mfine the s\u001b[0m\u001b[31mcope of 'Dis\u001b[0m\u001b[31mney m\u001b[0m\u001b[31movies'\u001b[0m\u001b[31m (Walt\u001b[0m\u001b[31m Di\u001b[0m\u001b[31msney Animati\u001b[0m\u001b[31mon\u001b[0m\u001b[31m Studios\u001b[0m\u001b[31m, Pixar, Dis\u001b[0m\u001b[31mney \u001b[0m\u001b[31mlive-act\u001b[0m\u001b[31mion, e\u001b[0m\u001b[31mtc.)\",\u001b[0m\u001b[31m\"Research an\u001b[0m\u001b[31md compi\u001b[0m\u001b[31mle\u001b[0m\u001b[31m a comprehe\u001b[0m\u001b[31mnsive list o\u001b[0m\u001b[31mf Disney\u001b[0m\u001b[31m mo\u001b[0m\u001b[31mvies acr\u001b[0m\u001b[31moss diffe\u001b[0m\u001b[31mrent\u001b[0m\u001b[31m studios/div\u001b[0m\u001b[31misions\",\u001b[0m\u001b[31m\"Look\u001b[0m\u001b[31m up Rotten T\u001b[0m\u001b[31mom\u001b[0m\u001b[31mat\u001b[0m\u001b[31moes scor\u001b[0m\u001b[31mes fo\u001b[0m\u001b[31mr eac\u001b[0m\u001b[31mh \u001b[0m\u001b[31mDisney mo\u001b[0m\u001b[31mvie\",\"Filter\u001b[0m\u001b[31m the li\u001b[0m\u001b[31mst t\u001b[0m\u001b[31mo include o\u001b[0m\u001b[31mnly movies\u001b[0m\u001b[31m wit\u001b[0m\u001b[31mh scores o\u001b[0m\u001b[31mf \u001b[0m\u001b[31m90%\u001b[0m\u001b[31m or higher\"\u001b[0m\u001b[31m,\"O\u001b[0m\u001b[31mrga\u001b[0m\u001b[31mnize\u001b[0m\u001b[31m a\u001b[0m\u001b[31mnd present \u001b[0m\u001b[31mthe final li\u001b[0m\u001b[31mst \u001b[0m\u001b[31mwith\u001b[0m\u001b[31m movie t\u001b[0m\u001b[31mitles, rel\u001b[0m\u001b[31meas\u001b[0m\u001b[31me years, \u001b[0m\u001b[31mand Rot\u001b[0m\u001b[31mten To\u001b[0m\u001b[31mmatoes score\u001b[0m\u001b[31ms\"]}\u001b[0m\u001b[31m)\n",
      "\u001b[0m\u001b[0m\u001b[0m\u001b[0m\u001b[0m\n"
     ]
    },
    {
     "name": "stdin",
     "output_type": "stream",
     "text": [
      "\u001b[32m\u001b[1m>  exit\n"
     ]
    },
    {
     "name": "stdout",
     "output_type": "stream",
     "text": [
      "\u001b[0m\u001b[0m\n"
     ]
    }
   ],
   "source": [
    "await tui_input_loop(planning_agent)   # type: ignore[top-level-await]"
   ]
  },
  {
   "cell_type": "code",
   "execution_count": null,
   "id": "4604cbe9-8a72-4953-942b-3b9943e49d66",
   "metadata": {},
   "outputs": [],
   "source": []
  }
 ],
 "metadata": {
  "kernelspec": {
   "display_name": "Python 3 (ipykernel)",
   "language": "python",
   "name": "python3"
  },
  "language_info": {
   "codemirror_mode": {
    "name": "ipython",
    "version": 3
   },
   "file_extension": ".py",
   "mimetype": "text/x-python",
   "name": "python",
   "nbconvert_exporter": "python",
   "pygments_lexer": "ipython3",
   "version": "3.12.3"
  }
 },
 "nbformat": 4,
 "nbformat_minor": 5
}
