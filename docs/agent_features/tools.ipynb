{
 "cells": [
  {
   "cell_type": "raw",
   "id": "0bdc824c-8848-41da-84c3-3adf22e86f1f",
   "metadata": {},
   "source": [
    "---\n",
    "title: \"Tool Use\"\n",
    "---"
   ]
  },
  {
   "cell_type": "markdown",
   "id": "c5f33011-4200-4727-9a60-9655758030c4",
   "metadata": {},
   "source": [
    "**Give your agents superpowers!** 💪\n",
    "\n",
    "Tools let your agents interact with the outside world.\n",
    "\n",
    "In Lasagna AI, tools are simply **Python callables** (i.e. _functions_ or _callable objects_) that you pass to the AI model. The framework handles the complex orchestration of:\n",
    "\n",
    "- communicating tools' details to the AI model,\n",
    "- invoking tools safely (when the AI model asks for it), and\n",
    "- sending the tools' results back to the AI model."
   ]
  },
  {
   "cell_type": "code",
   "execution_count": 1,
   "id": "0a217760-dc69-484a-9acb-3019c0630040",
   "metadata": {},
   "outputs": [],
   "source": [
    "# This page will use the following imports:\n",
    "\n",
    "from lasagna import Model, EventCallback, AgentRun\n",
    "from lasagna import (\n",
    "    recursive_extract_messages,\n",
    "    override_system_prompt,\n",
    "    flat_messages,\n",
    ")\n",
    "from lasagna import known_models\n",
    "from lasagna.tui import tui_input_loop\n",
    "\n",
    "import os\n",
    "\n",
    "import sympy as sp  # type: ignore\n",
    "\n",
    "from dotenv import load_dotenv"
   ]
  },
  {
   "cell_type": "markdown",
   "id": "383bd32d-226b-4ac0-bdc1-c2ef19147577",
   "metadata": {},
   "source": [
    "We need to set up our \"binder\" (see the [quickstart guide](../quickstart.ipynb) for what this is)."
   ]
  },
  {
   "cell_type": "code",
   "execution_count": 2,
   "id": "d480fab5-3b61-42c2-932d-26f35af35c80",
   "metadata": {},
   "outputs": [
    {
     "name": "stdout",
     "output_type": "stream",
     "text": [
      "Using OpenAI\n"
     ]
    }
   ],
   "source": [
    "load_dotenv()\n",
    "\n",
    "if os.environ.get('OPENAI_API_KEY'):\n",
    "    print('Using OpenAI')\n",
    "    binder = known_models.BIND_OPENAI_gpt_4o()\n",
    "\n",
    "elif os.environ.get('ANTHROPIC_API_KEY'):\n",
    "    print('Using Anthropic')\n",
    "    binder = known_models.BIND_ANTHROPIC_claude_sonnet_4()\n",
    "\n",
    "else:\n",
    "    assert False, \"Neither OPENAI_API_KEY nor ANTHROPIC_API_KEY is set! We need at least one to do this demo.\""
   ]
  },
  {
   "cell_type": "markdown",
   "id": "ff90aa38-7f5c-492f-a474-223c7b56447d",
   "metadata": {},
   "source": [
    "## Create Your _First_ Tool\n",
    "\n",
    "Let's make a tool! Remember, tools are just **Python callables**.\n",
    "\n",
    "AI models (at the time of writing) are bad at math. Here's a simple math tool to give our AI the ability to evaluate complex math expressions accurately."
   ]
  },
  {
   "cell_type": "code",
   "execution_count": 3,
   "id": "4ef6ce38-10d8-4c51-bcaf-d56a9c2de013",
   "metadata": {},
   "outputs": [],
   "source": [
    "def evaluate_math_expression(expression: str) -> float:\n",
    "    \"\"\"\n",
    "    This tool evaluates a math expression and returns the result.\n",
    "    Pass math expression as a string, for example:\n",
    "     - \"3 * 6 + 1\"\n",
    "     - \"cos(2 * pi / 3) + log(8)\"\n",
    "     - \"(4.5/2) + (6.3/1.2)\"\n",
    "     - ... etc\n",
    "\n",
    "    :param: expression: str: the math expression to evaluate\n",
    "    \"\"\"\n",
    "    expr = sp.sympify(expression)\n",
    "    result = float(expr.evalf())\n",
    "    return result"
   ]
  },
  {
   "cell_type": "raw",
   "id": "efabbaa2-dbe4-420f-9e2c-2a117bde667b",
   "metadata": {},
   "source": [
    "::: {.callout-note}\n",
    "## Docstring Format\n",
    "\n",
    "The format of the docstring is important! We'll cover this in a later section!\n",
    ":::"
   ]
  },
  {
   "cell_type": "markdown",
   "id": "c5ecdfb9-e949-455e-9df4-7fcc64fa2caa",
   "metadata": {},
   "source": [
    "### Pass the Tool to the AI Model\n",
    "\n",
    "It is your agent's job to decide which tools the AI has access to. When your agent does `model.run(...)`, it passes zero or more tools to the AI model. Here's a quick demo!"
   ]
  },
  {
   "cell_type": "code",
   "execution_count": 4,
   "id": "fb10c8ea-f433-4744-a6f9-fab2bc999922",
   "metadata": {},
   "outputs": [],
   "source": [
    "async def math_agent(\n",
    "    model: Model,\n",
    "    event_callback: EventCallback,\n",
    "    prev_runs: list[AgentRun],\n",
    ") -> AgentRun:\n",
    "    messages = recursive_extract_messages(prev_runs, from_tools=False, from_extraction=False)\n",
    "    messages = override_system_prompt(messages, 'You are a math assistant.')\n",
    "\n",
    "    new_messages = await model.run(\n",
    "        event_callback,\n",
    "        messages,\n",
    "        tools=[\n",
    "            evaluate_math_expression,   # <-- 🔨 the tool is passed here!\n",
    "        ],\n",
    "    )\n",
    "\n",
    "    return flat_messages('math_agent', new_messages)"
   ]
  },
  {
   "cell_type": "code",
   "execution_count": 5,
   "id": "4e82de9c-c30a-4530-b31b-9b978a124604",
   "metadata": {},
   "outputs": [
    {
     "name": "stdin",
     "output_type": "stream",
     "text": [
      "\u001b[32m\u001b[1m>  Hi!\n"
     ]
    },
    {
     "name": "stdout",
     "output_type": "stream",
     "text": [
      "\u001b[0m\u001b[0m\u001b[0m\u001b[0m\u001b[0m\u001b[0mHello\u001b[0m\u001b[0m!\u001b[0m\u001b[0m How\u001b[0m\u001b[0m can\u001b[0m\u001b[0m I\u001b[0m\u001b[0m assist\u001b[0m\u001b[0m you\u001b[0m\u001b[0m today\u001b[0m\u001b[0m?\u001b[0m\u001b[0m\u001b[0m\u001b[0m\n"
     ]
    },
    {
     "name": "stdin",
     "output_type": "stream",
     "text": [
      "\u001b[32m\u001b[1m>  Who are you?\n"
     ]
    },
    {
     "name": "stdout",
     "output_type": "stream",
     "text": [
      "\u001b[0m\u001b[0m\u001b[0m\u001b[0m\u001b[0m\u001b[0mI'm\u001b[0m\u001b[0m your\u001b[0m\u001b[0m math\u001b[0m\u001b[0m assistant\u001b[0m\u001b[0m,\u001b[0m\u001b[0m here\u001b[0m\u001b[0m to\u001b[0m\u001b[0m help\u001b[0m\u001b[0m you\u001b[0m\u001b[0m with\u001b[0m\u001b[0m calculations\u001b[0m\u001b[0m,\u001b[0m\u001b[0m solve\u001b[0m\u001b[0m math\u001b[0m\u001b[0m problems\u001b[0m\u001b[0m,\u001b[0m\u001b[0m evaluate\u001b[0m\u001b[0m expressions\u001b[0m\u001b[0m,\u001b[0m\u001b[0m and\u001b[0m\u001b[0m more\u001b[0m\u001b[0m!\u001b[0m\u001b[0m Let\u001b[0m\u001b[0m me\u001b[0m\u001b[0m know\u001b[0m\u001b[0m how\u001b[0m\u001b[0m I\u001b[0m\u001b[0m can\u001b[0m\u001b[0m assist\u001b[0m\u001b[0m.\u001b[0m\u001b[0m 😊\u001b[0m\u001b[0m\u001b[0m\u001b[0m\n"
     ]
    },
    {
     "name": "stdin",
     "output_type": "stream",
     "text": [
      "\u001b[32m\u001b[1m>  What is pi to the pi? (no latex)\n"
     ]
    },
    {
     "name": "stdout",
     "output_type": "stream",
     "text": [
      "\u001b[0m\u001b[0m\u001b[0m\u001b[31mevaluate_math_expression(\u001b[0m\u001b[31m{\"\u001b[0m\u001b[31mexpression\u001b[0m\u001b[31m\":\"\u001b[0m\u001b[31mpi\u001b[0m\u001b[31m **\u001b[0m\u001b[31m pi\u001b[0m\u001b[31m\"}\u001b[0m\u001b[31m)\n",
      "\u001b[0m\u001b[0m\u001b[0m\u001b[34m -> 36.46215960720791\n",
      "\u001b[0m\u001b[0m\u001b[0m\u001b[0m\u001b[0mPi\u001b[0m\u001b[0m raised\u001b[0m\u001b[0m to\u001b[0m\u001b[0m the\u001b[0m\u001b[0m power\u001b[0m\u001b[0m of\u001b[0m\u001b[0m pi\u001b[0m\u001b[0m is\u001b[0m\u001b[0m approximately\u001b[0m\u001b[0m \u001b[0m\u001b[0m36\u001b[0m\u001b[0m.\u001b[0m\u001b[0m462\u001b[0m\u001b[0m2\u001b[0m\u001b[0m.\u001b[0m\u001b[0m\u001b[0m\u001b[0m\n"
     ]
    },
    {
     "name": "stdin",
     "output_type": "stream",
     "text": [
      "\u001b[32m\u001b[1m>  exit\n"
     ]
    },
    {
     "name": "stdout",
     "output_type": "stream",
     "text": [
      "\u001b[0m\u001b[0m\n"
     ]
    }
   ],
   "source": [
    "await tui_input_loop(binder(math_agent))   # type: ignore[top-level-await]"
   ]
  },
  {
   "cell_type": "raw",
   "id": "29209d1d-00ae-4f92-bfa0-85adbc4ad078",
   "metadata": {},
   "source": [
    "::: {.callout-note}\n",
    "## Colors\n",
    "\n",
    "In the `tui_input_loop(...)` output above, notice:\n",
    "\n",
    "- **Green** is _your_ input.\n",
    "- **Black** is the _AI_ output.\n",
    "- **Red** is a _tool invocation_.\n",
    "- **Blue** is a _tool result_.\n",
    ":::"
   ]
  },
  {
   "cell_type": "markdown",
   "id": "7150fc96-da5d-4e91-8254-03a5f35b452a",
   "metadata": {},
   "source": [
    "## Tool Features"
   ]
  },
  {
   "cell_type": "markdown",
   "id": "xgiyfo74ti",
   "metadata": {},
   "source": [
    "### Definition Flexibilities\n",
    "\n",
    "Tools can be either **functions** or **callable objects** (classes with `__call__` method).\n",
    "\n",
    "Also, tools can either be **sync** or **async**. Lasagna is natively _async_, so there's a preference for _async_ tools; but, if you pass a _synchronous_ tool then Lasagna will run it in a thread pool (no worries)."
   ]
  },
  {
   "cell_type": "markdown",
   "id": "0b864bb0-ef98-43e8-bf1d-991c0d730e7c",
   "metadata": {},
   "source": [
    "### Docstrings\n",
    "\n",
    "Your tool's docstring is **critically important**. It is used to:\n",
    "\n",
    "- Describe to the AI what the tool _does_ and _when to use it_.\n",
    "- Define the tool's input parameters. Each parameter has a _name_, _type_, and _description_!\n",
    "\n",
    "It is formatted like this (for a tool with `n` input parameters):\n",
    "\n",
    "```python\n",
    "\"\"\"\n",
    "{tool_description}\n",
    "\n",
    ":param: {param_1_name}: {param_1_type}: {param_1_description}\n",
    ":param: {param_2_name}: {param_2_type}: {param_2_description}\n",
    "  ...\n",
    ":param: {param_n_name}: {param_n_type}: {param_n_description}\n",
    "\"\"\"\n",
    "```"
   ]
  },
  {
   "cell_type": "raw",
   "id": "314674a1-88b8-4938-a665-1d319c65ab96",
   "metadata": {},
   "source": [
    "::: {.callout-warning}\n",
    "## Authoring Tools is Prompt Engineering!\n",
    "\n",
    "You should spend _LOTS_ of time and energy writing your tool's docstring. The AI depends on you describing exactly how your tool works, when to use it, and what the parameters represent.\n",
    "\n",
    "You'll likely want to iterate and test different tool docstrings to see which perform best.\n",
    ":::"
   ]
  },
  {
   "cell_type": "markdown",
   "id": "7b500d6f-4f0a-4a24-86c3-f6ceefae4bf6",
   "metadata": {},
   "source": [
    "The following **types** are supported as parameters of tools:\n",
    "\n",
    "- `str`\n",
    "- `float`\n",
    "- `int`\n",
    "- `bool`\n",
    "- `enum {A} {B} ... {Z}` (i.e. enum types list the enum string values as a space-separated list following the word \"enum\")\n",
    "\n",
    "Parameters can be **optional** by putting the string \"(optional)\" at the start of the parameter's description in the docstring."
   ]
  },
  {
   "cell_type": "raw",
   "id": "43758f88-d11d-4765-b1d0-9cd457af0c4b",
   "metadata": {},
   "source": [
    "::: {.callout-note}\n",
    "## Lasagna will Validate Your Tool's Parameters\n",
    "\n",
    "Lasagna will check that your tool's docstring's parameter definitions match the callable's _actual_ parameters (names and types). It will also ensure that all \"(optional)\" parameters have default values in the callable's signature.\n",
    "\n",
    "If any docstring-to-signature mismatch is found, you'll get a runtime exception when you first attempt to pass the tool to a model.\n",
    ":::"
   ]
  },
  {
   "cell_type": "markdown",
   "id": "a4lgwu63q2n",
   "metadata": {},
   "source": [
    "### Parallel Execution\n",
    "\n",
    "If the AI model asks for more than one tool call, then Lasagna will call those tools _in parallel_! This provides a speed boost, but keep this in mind so that you manage state correctly (i.e. no race conditions). If you are a well-behaved functional-style programmer who never modifies state, you'll be fine."
   ]
  },
  {
   "cell_type": "markdown",
   "id": "5dd8a737-d2cb-47b2-8ade-e3f1b0b0ea57",
   "metadata": {},
   "source": [
    "## Tool Recipes\n",
    "\n",
    "Many of the **recipes** show examples of tool use. See:\n",
    "\n",
    "- [RAG Example](../recipes/rag.ipynb)\n",
    "- [Internet Research Example](../recipes/internet_research.ipynb)\n",
    "- [Twilio SMS Example](../recipes/sms.ipynb)"
   ]
  },
  {
   "cell_type": "markdown",
   "id": "7c306669-bacb-4089-8656-ad74c26aaca4",
   "metadata": {},
   "source": [
    "## Layered Agents\n",
    "\n",
    "Layered agents are a founding idea behind the Lasagna AI library. With Lasagna, we can call _agents_ like we call _functions_ in procedural programming. Consider good-ol' functions:\n",
    "\n",
    "- You define a function.\n",
    "- You can invoke it.\n",
    "- Other functions can also invoke it.\n",
    "- It can invoke other functions.\n",
    "- Each function has its own well-defined input/output and behavior.\n",
    "\n",
    "In Lasagna, agents are the same!\n",
    "\n",
    "- You define an agent (as a function or callable object).\n",
    "- You can invoke it.\n",
    "- Other agents can also invoke it.\n",
    "- It can invoke other agents.\n",
    "- Each agent has its own well-defined input/output and behavior.\n",
    "\n",
    "Just like you compose a program by layering functions from low-level to high-level, you do the same with Lasagna and AI Agents!\n",
    "\n",
    "🎉🎉🎉 **This is why it's called Lasagna! Because it has layers!** 🤓🤓🤓\n",
    "\n",
    "### Agents as Tools\n",
    "\n",
    "A similar founding idea was that you should be able to layer agents by passing agents as tools to other agents. So, you can!\n",
    "\n",
    "See the [Layered Agents](../recipes/layered_agents.ipynb) recipe for a working example."
   ]
  },
  {
   "cell_type": "markdown",
   "id": "16ij68q4pf2",
   "metadata": {},
   "source": [
    "## Next Steps\n",
    "\n",
    "Now that you understand tools, you can explore:\n",
    "\n",
    "- [Structured Output](structured_output.ipynb): How your agents can extract structured data\n",
    "- [Layered (multi-agent) Systems](layering.ipynb): Methods for layering agents in Lasagna AI"
   ]
  },
  {
   "cell_type": "code",
   "execution_count": null,
   "id": "cee9b76e-4e77-454b-85f0-bd89e748b11f",
   "metadata": {},
   "outputs": [],
   "source": []
  }
 ],
 "metadata": {
  "kernelspec": {
   "display_name": "Python 3 (ipykernel)",
   "language": "python",
   "name": "python3"
  },
  "language_info": {
   "codemirror_mode": {
    "name": "ipython",
    "version": 3
   },
   "file_extension": ".py",
   "mimetype": "text/x-python",
   "name": "python",
   "nbconvert_exporter": "python",
   "pygments_lexer": "ipython3",
   "version": "3.12.3"
  }
 },
 "nbformat": 4,
 "nbformat_minor": 5
}
