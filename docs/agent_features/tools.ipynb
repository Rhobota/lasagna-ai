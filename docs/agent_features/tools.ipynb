{
 "cells": [
  {
   "cell_type": "raw",
   "id": "0bdc824c-8848-41da-84c3-3adf22e86f1f",
   "metadata": {},
   "source": [
    "---\n",
    "title: \"Tool Use\"\n",
    "---"
   ]
  },
  {
   "cell_type": "markdown",
   "id": "c5f33011-4200-4727-9a60-9655758030c4",
   "metadata": {},
   "source": [
    "**Want to add your first tool?** LLMs can't natively do arithmetic (beyond simple arithmetic with small numbers), so let's give our model a tool for doing arithmetic! 😎\n",
    "\n",
    "Full example: [quickstart_with_math_tool.py](https://github.com/Rhobota/lasagna-ai/blob/main/examples/quickstart_with_math_tool.py)"
   ]
  },
  {
   "cell_type": "code",
   "execution_count": 1,
   "id": "f4afa4bb-abdf-46a9-b288-369870369c10",
   "metadata": {},
   "outputs": [],
   "source": [
    "# 🚧 Under Construction 🏗️"
   ]
  },
  {
   "cell_type": "code",
   "execution_count": null,
   "id": "4ef6ce38-10d8-4c51-bcaf-d56a9c2de013",
   "metadata": {},
   "outputs": [],
   "source": []
  },
  {
   "cell_type": "code",
   "execution_count": null,
   "id": "4bd0485c-88e6-41d2-8c98-cdf137056e86",
   "metadata": {},
   "outputs": [],
   "source": []
  },
  {
   "cell_type": "code",
   "execution_count": null,
   "id": "47ced49b-7dcf-42a6-a44f-a595370e822a",
   "metadata": {},
   "outputs": [],
   "source": []
  },
  {
   "cell_type": "markdown",
   "id": "1e591ece-5629-4774-bbb9-dc57bd63672b",
   "metadata": {},
   "source": [
    "### Demo: Parallel Tool-calling\n",
    "\n",
    "Because Lasagna AI is so deeply built on `asyncio`, if the Model asks for more than one tool call, then Lasagna will call those tools _in parallel_! This provides a speed boost, but keep this in mind so that you manage state correctly (i.e. no race conditions)."
   ]
  },
  {
   "cell_type": "code",
   "execution_count": null,
   "id": "9d8a1142-a260-4125-929b-d3ce9eaeaa92",
   "metadata": {},
   "outputs": [],
   "source": []
  }
 ],
 "metadata": {
  "kernelspec": {
   "display_name": "Python 3 (ipykernel)",
   "language": "python",
   "name": "python3"
  },
  "language_info": {
   "codemirror_mode": {
    "name": "ipython",
    "version": 3
   },
   "file_extension": ".py",
   "mimetype": "text/x-python",
   "name": "python",
   "nbconvert_exporter": "python",
   "pygments_lexer": "ipython3",
   "version": "3.12.3"
  }
 },
 "nbformat": 4,
 "nbformat_minor": 5
}
