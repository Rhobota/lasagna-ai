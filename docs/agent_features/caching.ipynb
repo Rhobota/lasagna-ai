{
 "cells": [
  {
   "cell_type": "raw",
   "id": "9b9966d8-e8a3-420a-807d-e562cec309db",
   "metadata": {},
   "source": [
    "---\n",
    "title: \"Caching Decorator\"\n",
    "---"
   ]
  },
  {
   "cell_type": "code",
   "execution_count": 1,
   "id": "d0f90b80-ebc5-49ae-acc7-5d6a9991b296",
   "metadata": {},
   "outputs": [],
   "source": [
    "# 🚧 Under Construction 🏗️"
   ]
  },
  {
   "cell_type": "markdown",
   "id": "d05eca7b-5ed0-4707-961c-803c634ed971",
   "metadata": {},
   "source": [
    "Lasagna AI provides easy & pluggable caching, so you can safe money (and time) in environments where you get the same prompts over-and-over. 🏦"
   ]
  },
  {
   "cell_type": "code",
   "execution_count": null,
   "id": "90c64c6b-4a07-45d1-b381-4a8881c390c2",
   "metadata": {},
   "outputs": [],
   "source": []
  }
 ],
 "metadata": {
  "kernelspec": {
   "display_name": "Python 3 (ipykernel)",
   "language": "python",
   "name": "python3"
  },
  "language_info": {
   "codemirror_mode": {
    "name": "ipython",
    "version": 3
   },
   "file_extension": ".py",
   "mimetype": "text/x-python",
   "name": "python",
   "nbconvert_exporter": "python",
   "pygments_lexer": "ipython3",
   "version": "3.12.3"
  }
 },
 "nbformat": 4,
 "nbformat_minor": 5
}
