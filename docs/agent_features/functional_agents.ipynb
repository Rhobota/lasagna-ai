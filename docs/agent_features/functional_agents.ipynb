{
 "cells": [
  {
   "cell_type": "raw",
   "id": "9b9966d8-e8a3-420a-807d-e562cec309db",
   "metadata": {},
   "source": [
    "---\n",
    "title: \"Functional Agents\"\n",
    "---"
   ]
  },
  {
   "cell_type": "code",
   "execution_count": 1,
   "id": "d0f90b80-ebc5-49ae-acc7-5d6a9991b296",
   "metadata": {},
   "outputs": [],
   "source": [
    "# 🚧 Under Construction 🏗️"
   ]
  },
  {
   "cell_type": "markdown",
   "id": "d710f2dc-7da9-44c2-bce4-62609e8b4505",
   "metadata": {},
   "source": [
    "Document:\n",
    "\n",
    "- `build_simple_agent`,\n",
    "- `build_extraction_agent`,\n",
    "- `build_agent_chainer`,\n",
    "- `build_agent_router`,\n",
    "- `build_static_output_agent`,\n",
    "- `build_parallelizer`   <-- new idea"
   ]
  },
  {
   "cell_type": "code",
   "execution_count": null,
   "id": "5f030fb6-9c46-45de-a943-497c83bda407",
   "metadata": {},
   "outputs": [],
   "source": []
  }
 ],
 "metadata": {
  "kernelspec": {
   "display_name": "Python 3 (ipykernel)",
   "language": "python",
   "name": "python3"
  },
  "language_info": {
   "codemirror_mode": {
    "name": "ipython",
    "version": 3
   },
   "file_extension": ".py",
   "mimetype": "text/x-python",
   "name": "python",
   "nbconvert_exporter": "python",
   "pygments_lexer": "ipython3",
   "version": "3.12.3"
  }
 },
 "nbformat": 4,
 "nbformat_minor": 5
}
