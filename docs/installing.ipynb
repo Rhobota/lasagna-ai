{
 "cells": [
  {
   "cell_type": "raw",
   "id": "52fd1d52-ea95-449e-85f3-03bcec576bfe",
   "metadata": {},
   "source": [
    "---\n",
    "title: \"📡 Install Lasagna AI\"\n",
    "order: 005\n",
    "---"
   ]
  },
  {
   "cell_type": "markdown",
   "id": "3fd21b1c-5bb1-4ebc-a90a-a36298d37fe7",
   "metadata": {},
   "source": [
    "## Installing"
   ]
  },
  {
   "cell_type": "raw",
   "id": "fa856e56-ffa1-4622-b247-217a5cd73a0d",
   "metadata": {},
   "source": [
    "::: {.callout-warning}\n",
    "Do **NOT** do `pip install lasagna` ... because that's a different library! 😱\n",
    "\n",
    "You must do `pip install lasagna-ai` ... 👈 that is the right one! 😎\n",
    ":::"
   ]
  },
  {
   "cell_type": "markdown",
   "id": "5ec3d99b-2441-4652-8b8d-6184fa3495aa",
   "metadata": {
    "scrolled": true
   },
   "source": [
    "```bash\n",
    "pip install lasagna-ai     # <-- 🎉🎉🎉\n",
    "```"
   ]
  },
  {
   "cell_type": "markdown",
   "id": "816cca77-d72a-44e7-ad6a-d320eed7cd79",
   "metadata": {},
   "source": [
    "## Check your version!"
   ]
  },
  {
   "cell_type": "code",
   "execution_count": null,
   "id": "a2e8014f-f470-4dee-b766-00a94cdb30df",
   "metadata": {},
   "outputs": [],
   "source": [
    "import lasagna\n",
    "\n",
    "print(lasagna.__version__)"
   ]
  },
  {
   "cell_type": "markdown",
   "id": "99c64408-714d-4f2f-8f9a-7fc21fefd6d4",
   "metadata": {},
   "source": [
    "**Make sure you have the most recent version.**\n",
    "\n",
    "See all versions on PyPI: [lasagna-ai](https://pypi.org/project/lasagna-ai/)"
   ]
  },
  {
   "cell_type": "code",
   "execution_count": null,
   "id": "b52ab8f1-2e10-423d-9f12-ad1de657bd03",
   "metadata": {},
   "outputs": [],
   "source": []
  }
 ],
 "metadata": {
  "kernelspec": {
   "display_name": "Python 3 (ipykernel)",
   "language": "python",
   "name": "python3"
  },
  "language_info": {
   "codemirror_mode": {
    "name": "ipython",
    "version": 3
   },
   "file_extension": ".py",
   "mimetype": "text/x-python",
   "name": "python",
   "nbconvert_exporter": "python",
   "pygments_lexer": "ipython3",
   "version": "3.8.20"
  }
 },
 "nbformat": 4,
 "nbformat_minor": 5
}
