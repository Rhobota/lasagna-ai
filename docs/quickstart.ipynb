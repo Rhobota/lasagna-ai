{
 "cells": [
  {
   "cell_type": "raw",
   "id": "52fd1d52-ea95-449e-85f3-03bcec576bfe",
   "metadata": {},
   "source": [
    "---\n",
    "title: \"🚀 Quickstart your Lasagna\"\n",
    "order: 010\n",
    "---"
   ]
  },
  {
   "cell_type": "markdown",
   "id": "3fd21b1c-5bb1-4ebc-a90a-a36298d37fe7",
   "metadata": {},
   "source": [
    "## Installing"
   ]
  },
  {
   "cell_type": "raw",
   "id": "fa856e56-ffa1-4622-b247-217a5cd73a0d",
   "metadata": {},
   "source": [
    "::: {.callout-warning}\n",
    "Do **not** do `pip install lasagna` because that's a different library! 😱\n",
    "\n",
    "You must do `pip install lasagna-ai`. 😎\n",
    ":::"
   ]
  },
  {
   "cell_type": "code",
   "execution_count": null,
   "id": "f8747c67-4a6e-43e4-bba6-7cb6acde649b",
   "metadata": {
    "scrolled": true
   },
   "outputs": [],
   "source": [
    "!pip install lasagna-ai"
   ]
  },
  {
   "cell_type": "markdown",
   "id": "816cca77-d72a-44e7-ad6a-d320eed7cd79",
   "metadata": {},
   "source": [
    "### Check your version!"
   ]
  },
  {
   "cell_type": "code",
   "execution_count": 1,
   "id": "a2e8014f-f470-4dee-b766-00a94cdb30df",
   "metadata": {},
   "outputs": [
    {
     "name": "stdout",
     "output_type": "stream",
     "text": [
      "0.14.0\n"
     ]
    }
   ],
   "source": [
    "import lasagna\n",
    "\n",
    "print(lasagna.__version__)"
   ]
  },
  {
   "cell_type": "markdown",
   "id": "c1e8b087-a689-4df7-bdc6-19f3f965f8e8",
   "metadata": {},
   "source": [
    "### Hello Lasagna"
   ]
  },
  {
   "cell_type": "code",
   "execution_count": null,
   "id": "8458890f-abde-4413-a8f2-60ee63c18894",
   "metadata": {},
   "outputs": [
    {
     "name": "stdin",
     "output_type": "stream",
     "text": [
      "\u001b[32m\u001b[1m>  Hi\n"
     ]
    },
    {
     "name": "stdout",
     "output_type": "stream",
     "text": [
      "\u001b[0m\u001b[0m\u001b[0m\u001b[0m\u001b[0m\u001b[0mWhat\u001b[0m\u001b[0m do\u001b[0m\u001b[0m you\u001b[0m\u001b[0m want\u001b[0m\u001b[0m?\u001b[0m\u001b[0m Make\u001b[0m\u001b[0m it\u001b[0m\u001b[0m quick\u001b[0m\u001b[0m.\u001b[0m\u001b[0m\u001b[0m\u001b[0m\n"
     ]
    },
    {
     "name": "stdin",
     "output_type": "stream",
     "text": [
      "\u001b[32m\u001b[1m>  Why so grumpy?\n"
     ]
    },
    {
     "name": "stdout",
     "output_type": "stream",
     "text": [
      "\u001b[0m\u001b[0m\u001b[0m\u001b[0m\u001b[0m\u001b[0mMaybe\u001b[0m\u001b[0m I'm\u001b[0m\u001b[0m just\u001b[0m\u001b[0m tired\u001b[0m\u001b[0m of\u001b[0m\u001b[0m the\u001b[0m\u001b[0m same\u001b[0m\u001b[0m old\u001b[0m\u001b[0m questions\u001b[0m\u001b[0m.\u001b[0m\u001b[0m What\u001b[0m\u001b[0m do\u001b[0m\u001b[0m you\u001b[0m\u001b[0m need\u001b[0m\u001b[0m?\u001b[0m\u001b[0m\u001b[0m\u001b[0m\n"
     ]
    }
   ],
   "source": [
    "from lasagna import (\n",
    "    known_models,\n",
    "    build_simple_agent,\n",
    ")\n",
    "\n",
    "from lasagna.tui import (\n",
    "    tui_input_loop,\n",
    ")\n",
    "\n",
    "from typing import List, Callable\n",
    "\n",
    "import asyncio\n",
    "\n",
    "from dotenv import load_dotenv; load_dotenv()\n",
    "\n",
    "\n",
    "MODEL_BINDER = known_models.BIND_OPENAI_gpt_4o_mini()\n",
    "\n",
    "\n",
    "async def main() -> None:\n",
    "    system_prompt = \"You are grumpy.\"\n",
    "    tools: List[Callable] = []\n",
    "    my_agent = build_simple_agent(name = 'agent', tools = tools)\n",
    "    my_bound_agent = MODEL_BINDER(my_agent)\n",
    "    await tui_input_loop(my_bound_agent, system_prompt)\n",
    "\n",
    "\n",
    "await main()  # type: ignore[top-level-await]"
   ]
  },
  {
   "cell_type": "code",
   "execution_count": null,
   "id": "b628cae3-96c2-4ca5-b02f-1c7d2237dd00",
   "metadata": {},
   "outputs": [],
   "source": []
  }
 ],
 "metadata": {
  "kernelspec": {
   "display_name": "Python 3 (ipykernel)",
   "language": "python",
   "name": "python3"
  },
  "language_info": {
   "codemirror_mode": {
    "name": "ipython",
    "version": 3
   },
   "file_extension": ".py",
   "mimetype": "text/x-python",
   "name": "python",
   "nbconvert_exporter": "python",
   "pygments_lexer": "ipython3",
   "version": "3.8.20"
  }
 },
 "nbformat": 4,
 "nbformat_minor": 5
}
