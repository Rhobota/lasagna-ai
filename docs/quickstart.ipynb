{
 "cells": [
  {
   "cell_type": "raw",
   "id": "52fd1d52-ea95-449e-85f3-03bcec576bfe",
   "metadata": {},
   "source": [
    "---\n",
    "title: \"🚀 Quickstart\"\n",
    "order: 010\n",
    "---"
   ]
  },
  {
   "cell_type": "markdown",
   "id": "72148713-74bb-4ec3-8247-0d99d16bf928",
   "metadata": {},
   "source": [
    "There are **four key ideas** behind Lasagna AI:\n",
    "\n",
    "1. We want to build **layered** agents!\n",
    "2. We want it to be **plugable** (both _models_ and _agents_ plug together in all directions).\n",
    "3. We want to deploy stuff into **production**!\n",
    "4. We want **type safety**!"
   ]
  },
  {
   "cell_type": "markdown",
   "id": "726650e1-18f8-4229-89c3-0e2331d889df",
   "metadata": {},
   "source": [
    "## Prerequisite Knowledge"
   ]
  },
  {
   "cell_type": "markdown",
   "id": "0519b685-f157-45c1-ae09-643c2d24f7ce",
   "metadata": {},
   "source": [
    "### Python `asyncio`\n",
    "\n",
    "The production-mindedness of Lasagna AI means it's fully async, so it plays nicely with remote APIs and modern Python web frameworks. If `asyncio` is new to you, read [Python & Async Simplified](https://www.aeracode.org/2018/02/19/python-async-simplified/)."
   ]
  },
  {
   "cell_type": "markdown",
   "id": "da09c72b-b40d-4bc6-bc65-dcdf62e5b2a5",
   "metadata": {},
   "source": [
    "### Functional Programming\n",
    "\n",
    "The pipeline-nature of AI systems lends itself toward **functional programming**. If functional programming is new to you, watch [Dear Functional Bros](https://youtu.be/nuML9SmdbJ4?si=eQ6Qla11k3ayJD79) and read [Functional Programming](misc/functional_programming.ipynb).\n",
    "\n",
    "A quick recap of functional programming:\n",
    "\n",
    "- State is immutable:\n",
    "    - Want to modify something? **TOO BAD!**\n",
    "    - Instead, make a copy (_with your modifications applied_).\n",
    "- Pass lots of functions as parameters to other functions:\n",
    "    - We think it's **fun** and **cool**.\n",
    "    - You will too once you get used to the idea."
   ]
  },
  {
   "cell_type": "raw",
   "id": "97f1fa0e-418c-4d7f-9ed4-d346f5a4c8a7",
   "metadata": {},
   "source": [
    "::: {.callout-note}\n",
    "## Reality Check\n",
    "\n",
    "The reality is that _OOP_ is also handy (and so is _procedural_-style), so you'll see a mix of programming paradigms in Lasagna AI. The functional-style is likely the _newest_ for most users, though.\n",
    ":::"
   ]
  },
  {
   "cell_type": "markdown",
   "id": "b485bf43-1e38-4c84-aeb7-227035835f27",
   "metadata": {},
   "source": [
    "### Basic idea of Lasagna's Layered Agents\n",
    "\n",
    "With Lasagna AI you'll build several simple agents, then compose them together into a layered multi-agent system! Yay! 🥳\n",
    "\n",
    "You can skip for now, but _eventually_ you'll want to read:\n",
    "\n",
    "- [The Lasagna `Agent`](what_is_an_agent/agent.ipynb)\n",
    "- [The `AgentRun` type](what_is_an_agent/type_agentrun.ipynb)"
   ]
  },
  {
   "cell_type": "markdown",
   "id": "c1e8b087-a689-4df7-bdc6-19f3f965f8e8",
   "metadata": {},
   "source": [
    "## Hello Lasagna\n",
    "\n",
    "We're so close to writing code! Hang tight. 😎"
   ]
  },
  {
   "cell_type": "markdown",
   "id": "17da86d6-8957-458c-9967-7f69e4ba385e",
   "metadata": {},
   "source": [
    "### It's all about the `Agent`\n",
    "\n",
    "The **Lasagna Agent** is just a _callable_ that takes three parameters:\n",
    "\n",
    "- `model`: The _model_ that is available for the agent's use (most commonly this will be a _Large Language Model_; aka an LLM).\n",
    "- `event_callback`: This is a callback for streaming!\n",
    "    - It's generic, so you can invent new event types if you need.\n",
    "    - It also emits events at agent-boundaries, which can be useful.\n",
    "- `prev_runs`: In a multi-turn chat system, this will be a list of \"previous runs\" of this agent; that is, this is your conversation history!\n",
    "\n",
    "Here is your first agent:"
   ]
  },
  {
   "cell_type": "code",
   "execution_count": null,
   "id": "b42fa88d-1a5d-4db9-8c51-44c3f3a78631",
   "metadata": {},
   "outputs": [],
   "source": [
    "from lasagna import Model, EventCallback, AgentRun\n",
    "\n",
    "async def my_agent(\n",
    "    model: Model,\n",
    "    event_callback: EventCallback,\n",
    "    prev_runs: list[AgentRun],\n",
    ") -> AgentRun:\n",
    "    raise RuntimeError(\"not implemented\")"
   ]
  },
  {
   "cell_type": "markdown",
   "id": "f902ea10-65cb-4ddc-8aba-8fd48fdda8ec",
   "metadata": {},
   "source": [
    "You can make it a _callable object_ (rather than a _function_), if you'd want, like this:"
   ]
  },
  {
   "cell_type": "code",
   "execution_count": null,
   "id": "1ec7abdd-2084-4c35-aae8-ff210a2fd9cb",
   "metadata": {},
   "outputs": [],
   "source": [
    "class MyAgent:\n",
    "    def __init__(self):\n",
    "        pass\n",
    "\n",
    "    async def __call__(\n",
    "        model: Model,\n",
    "        event_callback: EventCallback,\n",
    "        prev_runs: list[AgentRun],\n",
    "    ) -> AgentRun:\n",
    "        raise RuntimeError(\"not implemented\")\n",
    "\n",
    "my_agent = MyAgent()"
   ]
  },
  {
   "cell_type": "markdown",
   "id": "5f2d40d6-89d3-48fe-9ecf-a0dceae312ac",
   "metadata": {},
   "source": [
    "### The `Agent`'s job\n",
    "\n",
    "The most _basic_ agent will do this:\n",
    "\n",
    "1. Look through the conversation history (supplied in the `prev_runs` parameter) and extract all the messages from that history.\n",
    "2. Invoke `model` with those messages, and grab the _new_ message(s) that the model generates.\n",
    "3. Wrap those _new_ message(s) up into an `AgentRun`, and return it.\n",
    "\n",
    "(We'll discuss more _complex_ agent behaviors later.)\n",
    "\n",
    "So, the most _basic_ agent looks like this:"
   ]
  },
  {
   "cell_type": "code",
   "execution_count": null,
   "id": "16343ecb-dc0d-4eec-9f95-ddff1730da89",
   "metadata": {},
   "outputs": [],
   "source": [
    "from lasagna import recursive_extract_messages, flat_messages\n",
    "\n",
    "async def my_agent(\n",
    "    model: Model,\n",
    "    event_callback: EventCallback,\n",
    "    prev_runs: list[AgentRun],\n",
    ") -> AgentRun:\n",
    "    messages = recursive_extract_messages(prev_runs, from_layered_agents=False)\n",
    "    new_messages = await model.run(event_callback, messages, tools=[])\n",
    "    this_run = flat_messages('my_agent', new_messages)\n",
    "    return this_run"
   ]
  },
  {
   "cell_type": "markdown",
   "id": "6f994e63-68bc-4c68-95f8-34f01a5370d7",
   "metadata": {},
   "source": [
    "### \"Binding\" the `Agent`"
   ]
  },
  {
   "cell_type": "code",
   "execution_count": null,
   "id": "6b8ee6f6-bd03-4e94-970f-e77c93690845",
   "metadata": {},
   "outputs": [],
   "source": []
  },
  {
   "cell_type": "code",
   "execution_count": null,
   "id": "7d4ce10d-5680-4ba7-beb6-bdefb6dac9f5",
   "metadata": {},
   "outputs": [],
   "source": []
  },
  {
   "cell_type": "markdown",
   "id": "f31d4830-3ea1-4920-afa9-7e91c55a5513",
   "metadata": {},
   "source": [
    "### Test in the Terminal"
   ]
  },
  {
   "cell_type": "code",
   "execution_count": null,
   "id": "72bf48be-eb49-42a4-8a67-800e35406e6b",
   "metadata": {},
   "outputs": [],
   "source": []
  },
  {
   "cell_type": "code",
   "execution_count": null,
   "id": "cad40376-701d-474c-9a00-1e487252c047",
   "metadata": {},
   "outputs": [],
   "source": []
  },
  {
   "cell_type": "code",
   "execution_count": null,
   "id": "5176bab1-024a-4df9-9748-92b3c590d400",
   "metadata": {},
   "outputs": [],
   "source": []
  },
  {
   "cell_type": "markdown",
   "id": "7e517e01-35a6-4033-bcbe-e60e869964c4",
   "metadata": {},
   "source": [
    "## Put it all together!\n",
    "\n",
    "Here is everything above in one cell, so you can easily run it yourself:"
   ]
  },
  {
   "cell_type": "code",
   "execution_count": null,
   "id": "8458890f-abde-4413-a8f2-60ee63c18894",
   "metadata": {},
   "outputs": [],
   "source": [
    "from lasagna import (\n",
    "    known_models,\n",
    "    Model,\n",
    "    EventCallback,\n",
    "    AgentRun,\n",
    "    recursive_extract_messages,\n",
    "    flat_messages,\n",
    ")\n",
    "\n",
    "from lasagna.tui import tui_input_loop\n",
    "\n",
    "from dotenv import load_dotenv; load_dotenv()\n",
    "\n",
    "\n",
    "@known_models.BIND_OPENAI_gpt_4o_mini()\n",
    "async def my_agent(\n",
    "    model: Model,\n",
    "    event_callback: EventCallback,\n",
    "    prev_runs: list[AgentRun],\n",
    ") -> AgentRun:\n",
    "    messages = recursive_extract_messages(prev_runs, from_layered_agents=False)\n",
    "    new_messages = await model.run(event_callback, messages, tools=[])\n",
    "    this_run = flat_messages('my_agent', new_messages)\n",
    "    return this_run\n",
    "\n",
    "\n",
    "SYSTEM_PROMPT = \"You are grumpy.\"\n",
    "\n",
    "\n",
    "await tui_input_loop(my_agent, SYSTEM_PROMPT)  # type: ignore[top-level-await]"
   ]
  },
  {
   "cell_type": "code",
   "execution_count": null,
   "id": "b628cae3-96c2-4ca5-b02f-1c7d2237dd00",
   "metadata": {},
   "outputs": [],
   "source": []
  }
 ],
 "metadata": {
  "kernelspec": {
   "display_name": "Python 3 (ipykernel)",
   "language": "python",
   "name": "python3"
  },
  "language_info": {
   "codemirror_mode": {
    "name": "ipython",
    "version": 3
   },
   "file_extension": ".py",
   "mimetype": "text/x-python",
   "name": "python",
   "nbconvert_exporter": "python",
   "pygments_lexer": "ipython3",
   "version": "3.12.3"
  }
 },
 "nbformat": 4,
 "nbformat_minor": 5
}
