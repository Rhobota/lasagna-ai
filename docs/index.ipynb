{
 "cells": [
  {
   "cell_type": "raw",
   "id": "49ade424-4ecf-474e-a503-84cc5af27636",
   "metadata": {},
   "source": [
    "---\n",
    "title: \"Lasagna AI: Documentation\"\n",
    "---"
   ]
  },
  {
   "cell_type": "markdown",
   "id": "1e613457-3a1a-4429-b5e0-f2d4f96badd5",
   "metadata": {},
   "source": [
    "This is the homepage. # TODO"
   ]
  },
  {
   "cell_type": "code",
   "execution_count": null,
   "id": "2c2eb8ff-28ef-41ce-99c5-0ba1fbb39a3d",
   "metadata": {},
   "outputs": [],
   "source": []
  }
 ],
 "metadata": {
  "kernelspec": {
   "display_name": "Python 3 (ipykernel)",
   "language": "python",
   "name": "python3"
  },
  "language_info": {
   "codemirror_mode": {
    "name": "ipython",
    "version": 3
   },
   "file_extension": ".py",
   "mimetype": "text/x-python",
   "name": "python",
   "nbconvert_exporter": "python",
   "pygments_lexer": "ipython3",
   "version": "3.12.3"
  }
 },
 "nbformat": 4,
 "nbformat_minor": 5
}
