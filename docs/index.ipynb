{
 "cells": [
  {
   "cell_type": "markdown",
   "id": "56b75363-c9a2-45ce-bd7a-50ea4621cad2",
   "metadata": {},
   "source": [
    "![](https://raw.githubusercontent.com/Rhobota/lasagna-ai/main/logos/lasagna-ai.png)"
   ]
  },
  {
   "cell_type": "markdown",
   "id": "b677f76a-dce1-4352-b6aa-aeb4ec4207cf",
   "metadata": {},
   "source": [
    "[![PyPI - Version](https://img.shields.io/pypi/v/lasagna-ai.svg)](https://pypi.org/project/lasagna-ai)\n",
    "[![PyPI - Python Version](https://img.shields.io/pypi/pyversions/lasagna-ai.svg)](https://pypi.org/project/lasagna-ai)\n",
    "![Test Status](https://github.com/Rhobota/lasagna-ai/actions/workflows/test.yml/badge.svg?branch=main)"
   ]
  },
  {
   "cell_type": "markdown",
   "id": "aa48102f-6c54-4307-9f98-628322b30c5d",
   "metadata": {},
   "source": [
    "## What is Lasagna AI?\n",
    "\n",
    "**Lasagna AI** is a production-minded agent-building library. Build powerful layered agents (multi-agent systems) from simple components. 💪"
   ]
  },
  {
   "cell_type": "markdown",
   "id": "300ee00d-3b6a-4167-984c-b17552d1f890",
   "metadata": {},
   "source": [
    "## Getting Started\n",
    "\n",
    "Start with:\n",
    "\n",
    "- [📡 Installing](./installing.ipynb)\n",
    "- [🚀 Quickstart](./quickstart.ipynb)"
   ]
  },
  {
   "cell_type": "markdown",
   "id": "6727dd18-1ef0-4ac6-b131-a0e00bd4d976",
   "metadata": {},
   "source": [
    "## Features\n",
    "\n",
    "🥞  **Layered agents!**\n",
    "\n",
    "- Agents for your agents!\n",
    "- Tool-use, structured output (\"extraction\"), and layering FTW 💪\n",
    "- Ever wanted a _recursive_ agent? Now you can have one! 🤯\n",
    "- _Parallel_ tool-calling by default.\n",
    "- Fully asyncio.\n",
    "- 100% Python type hints.\n",
    "- Functional-style 😎\n",
    "- (optional) Easy & pluggable caching! 🏦\n",
    "\n",
    "🚣  **Streamable!**\n",
    "\n",
    "- Event streams for _everything_.\n",
    "- Asyncio generators are awesome.\n",
    "\n",
    "🗃️ **Easy database integration!**\n",
    "\n",
    "- Don't rage when trying to store raw messages and token counts. 😡 🤬\n",
    "- Yes, you _can_ have _both_ streaming and easy database storage.\n",
    "\n",
    "↔️ **Provider/model agnostic and interoperable!**\n",
    "\n",
    "- Core support for [OpenAI](https://platform.openai.com/docs/models), [Anthropic](https://docs.anthropic.com/en/docs/welcome), and [AWS Bedrock](https://docs.aws.amazon.com/bedrock/).\n",
    "- Experimental support for [Ollama](https://ollama.com/search) and [NVIDIA NIM/NGC](https://build.nvidia.com/explore/reasoning).\n",
    "- Message representations are canonized. 😇\n",
    "- Supports vision!\n",
    "- Easily build committees!\n",
    "- Swap providers or models mid-conversation.\n",
    "- Delegate tasks among model providers or model sizes.\n",
    "- Parallelize all the things."
   ]
  },
  {
   "cell_type": "code",
   "execution_count": null,
   "id": "e476de27-26b0-4466-b309-002fd31fc17c",
   "metadata": {},
   "outputs": [],
   "source": []
  }
 ],
 "metadata": {
  "kernelspec": {
   "display_name": "Python 3 (ipykernel)",
   "language": "python",
   "name": "python3"
  },
  "language_info": {
   "codemirror_mode": {
    "name": "ipython",
    "version": 3
   },
   "file_extension": ".py",
   "mimetype": "text/x-python",
   "name": "python",
   "nbconvert_exporter": "python",
   "pygments_lexer": "ipython3",
   "version": "3.12.3"
  }
 },
 "nbformat": 4,
 "nbformat_minor": 5
}
